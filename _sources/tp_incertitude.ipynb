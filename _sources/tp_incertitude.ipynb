{
 "cells": [
  {
   "cell_type": "markdown",
   "id": "planned-lightning",
   "metadata": {},
   "source": [
    "# Incertitudes de mesure et méthodes expérimentales.\n",
    "\n",
    "Cette présentation théorique présente :\n",
    "* les différentes parties d'une manipulation (Protocole-Observation-Exploitation)\n",
    "* le concept d'incertitude. On verra de plus comment implémenter une simulation de Monte-Carlo avec Python\n",
    "* quelques méthodes d'exploitation des données : l'écart normalisé, la moyenne de plusieurs résultats et la régression linéaire.\n",
    "\n",
    "Remarque : A plusieurs reprises des éléments de code sont proposés. Vous pouvez les tester vous même en les copiant dans un fichier script que vous exécuterez. En haut à droite de chaque cellule de code, vous trouverez un petit bouton ![Bouton](./notebook/images/copie_code.png) qui vous permettra de copier le code pour le coller ensuite dans votre fichier.\n",
    "\n",
    "\n",
    "```{toctree}\n",
    ":hidden:\n",
    ":titlesonly:\n",
    ":numbered: True\n",
    ":caption: Vocabulaire et étapes d'une manipulation\n",
    "\n",
    "notebook/vocabulaire\n",
    "```\n",
    "\n",
    "\n",
    "```{toctree}\n",
    ":hidden:\n",
    ":titlesonly:\n",
    ":numbered: True\n",
    ":caption: Incertitudes\n",
    "\n",
    "notebook/incertitude\n",
    "notebook/distribution\n",
    "notebook/sources\n",
    "notebook/indirecte\n",
    "```\n",
    "\n",
    "\n",
    "```{toctree}\n",
    ":hidden:\n",
    ":titlesonly:\n",
    ":numbered: True\n",
    ":caption: Rendre compte d'un résultat\n",
    "\n",
    "notebook/rcgeneral\n",
    "```\n",
    "\n",
    "\n",
    "```{toctree}\n",
    ":hidden:\n",
    ":titlesonly:\n",
    ":numbered: True\n",
    ":caption: Exploiter les mesures\n",
    "\n",
    "notebook/comparaison\n",
    "notebook/verifier_loi\n",
    "notebook/regression\n",
    "```\n",
    "\n",
    "\n",
    "```{toctree}\n",
    ":hidden:\n",
    ":titlesonly:\n",
    ":numbered: True\n",
    ":caption: Un exemple complet\n",
    "\n",
    "notebook/exemple\n",
    "```\n",
    "\n",
    "\n",
    "```{toctree}\n",
    ":hidden:\n",
    ":titlesonly:\n",
    ":numbered: True\n",
    ":caption: Pour aller plus loin\n",
    "\n",
    "notebook/comp_reglin\n",
    "```"
   ]
  }
 ],
 "metadata": {
  "jupytext": {
   "encoding": "# -*- coding: utf-8 -*-",
   "formats": "ipynb,md:myst",
   "split_at_heading": true,
   "text_representation": {
    "extension": ".md",
    "format_name": "myst",
    "format_version": 0.13,
    "jupytext_version": "1.10.3"
   }
  },
  "kernelspec": {
   "display_name": "Python 3",
   "language": "python",
   "name": "python3"
  },
  "language_info": {
   "codemirror_mode": {
    "name": "ipython",
    "version": 3
   },
   "file_extension": ".py",
   "mimetype": "text/x-python",
   "name": "python",
   "nbconvert_exporter": "python",
   "pygments_lexer": "ipython3",
   "version": "3.9.2"
  },
  "source_map": [
   15
  ]
 },
 "nbformat": 4,
 "nbformat_minor": 5
}