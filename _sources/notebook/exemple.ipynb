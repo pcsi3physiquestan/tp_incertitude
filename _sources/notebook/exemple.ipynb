{
 "cells": [
  {
   "cell_type": "markdown",
   "id": "excessive-trigger",
   "metadata": {},
   "source": [
    "# Un exemple complet\n",
    "\n",
    "Nous allons, à travers un exemple montrer l'étude complète, du protocole à l'exploitation, comment utiliser Python pour estimer les incertitudes, ajuster une loi affine et exploiter les résultats obtenus.\n",
    "\n",
    "## Protocole\n",
    "Si vous ne comprendez pas le principe de cette partie, reprendre l'[explication sur les protocoles](protocole).\n",
    "\n",
    "* __Objectif__ : On désire tester la loi de Mariotte qui relie Pression, Volume et Température d'un gaz : $PV = nRT$ pour l'air dans les conditions de température ambiante et de pression de quelques centaines d'hectoPascal. On déterminera aussi le nomber de mole d'air du système étudié.\n",
    "* __Principe__ : On va procéder à la mesure de couples $(P, V)$ pour plusieurs valeurs de $V$ à la température ambiante et on testera la loi $P(V)$ ainsi obtenue.\n",
    "* __Mode opératoire__ : On va utiliser [une seringue](mariotte_photo) contenant de l'air pour controler le volume. L'embout de la seringue sera branché sur un manomètre. Ce manomètre mesure une pression et renvoie une tension $U$ qu'on mesure grâce à un microcontrolleur Arduino programmé pour renvoyer les mesures vers un système de traitement informatique.\n",
    "\n",
    "````{panels}\n",
    "```{figure} ./images/mariotte.png\n",
    ":name: mariotte_photo\n",
    ":align: center\n",
    "Photo du montage\n",
    "```\n",
    "+++\n",
    "```{figure} ./images/mariotte_montage.png\n",
    ":name: mariotte_montage\n",
    ":align: center\n",
    "Schéma du montage\n",
    "```\n",
    "````\n",
    "\n",
    "Grâce à la seringue, on va imposer un volume $V$ d'air et on mesure grâce au manomètre la pression $P$. On réalisera plusieurs mesures successives de $P$ pour différents volumes imposés $V$. On testera alors la relation $P = f(1/V)$ pour vérifier qu'il s'agit d'une droite.\n",
    "\n",
    "En mesurant la température grâce à un thermomètre, on utilisera le coefficient de la droite ajustée sur la relation $P=f(1/V)$ pour déterminer le nombre de mole d'air emprisonné.\n",
    "\n",
    "## Analyse des sources d'incertitudes\n",
    "On veut tester une relation, il faudra bien réfléchir aux incertitudes. Si vous ne comprendez pas le principe de cette partie, reprendre [les sources d'incertitudes](sources).\n",
    "\n",
    "### Mesurandes directs\n",
    "On dispose de trois mesurandes directs :\n",
    "* la température $T$ mesurée par un thermomètre numérique dont le constructeur annonce une _tolérance_ de 5% sur la mesure en Celsius. On considèrera qu'il s'agit d'une incertitude-type (associé à une distribution uniforme). Cette source étant grande devant la résolution de l'affichage (1/10 de degré pour des températures d'environ 30°C), on considèrera qu'il s'agit de la seule source.\n",
    "* le volume $V$. Il y a deux sources d'incertitudes :\n",
    "\t* la lecture du volume de la seringue $V_{ser}$ souffre de la précision des graduations. La photo montre que les mesures seront incertaines à 2mL près. On choisira une distribution uniforme de largeur 2mL.\n",
    "\t* On doit corriger $V$ par le volume du petit tuyau $V_{tuyau}$ (identique pour tous les volumes). On a mesuré la longueur du tuyau $L = 4.0 \\pm 0.2 cm$ (distribution uniforme) à la règle et son diamètre $d = 1.000 \\pm 0.005 mm$ avec un pieds à coulisse micrométrique électronique. Vu la faible incertitude __relative ET absolue__ sur $d$, on la négligera par la suite.\n",
    "\t* Le volume total est donné par $V = V_{ser} + V_{tuyau}= V_{ser} + \\pi d^2 L / 4$\n",
    "\n",
    "```{margin}\n",
    "En toute rigueur, $V_{ser}$ et $V_{tuyau}$ sont des mesurandes directs et $V$ un mesurande indirect. En pratique, on considère souvent que $V_{tuyau}$ est une __correction__ du mesurande direct $V$. Mais la première vision n'est pas fausse.\n",
    "```\n",
    "\n",
    "* la tension $U$ délivrée par Arduino. Il y a deux sources d'incertitude:\n",
    "\t* la valeur renvoyée fluctue au cours du temps, on n'a uniquement pu mesurer des intervalles $[U_{min}, U_{max}]$ de valeurs (autour de $10^{-2}V$). On associera à ces intervalles une distribution uniforme).\n",
    "\t* la valeur renvoyé (entre 0 et 5V) est codée numérique entre 0 et 1023 bits. Il y a donc une résolution de $5 / 1023 = 0.0049 V$. Elle est cependant négligeable devant l'incertitude liée aux fluctuations.\n",
    "\n",
    "```{note} \n",
    "On sera souvent amené à considérer certaines sources d'incertitude comme négligeable. Il est important de réfléchir aux ordres de grandeurs de ces sources.\n",
    "\n",
    "Cette réflexion est importante et doit se faire assez tôt pour savoir quelles incertitudes prendre en compte.\n",
    "```\n",
    "\n",
    "### Mesurandes indirects\n",
    "Le seul mesurande indirect est la pression $P$. L'étalonnage du manomètre donne la relation $P(hPa) = 218.5 U(V) - 107.3$ avec des incertitudes sur les coefficients négligeables devant l'incertitude sur $U$.\n",
    "\n",
    "## Résultats de mesure.\n",
    "\n",
    "La mesure de la température donne $T = 30.1 \\pm 1.5 °C$.\n",
    "\n",
    "On ne donne que les résultats de mesure bruts : $V_{ser}, U_{min}, U_{max}$ et $T$. L'estimation des autres grandeurs et de leur incertitude se fera grâce à Python."
   ]
  },
  {
   "cell_type": "code",
   "execution_count": 1,
   "id": "normal-talent",
   "metadata": {
    "tags": [
     "remove-input"
    ]
   },
   "outputs": [
    {
     "data": {
      "text/html": [
       "<style  type=\"text/css\" >\n",
       "</style><table id=\"T_baeaf_\" ><thead>    <tr>        <th class=\"blank level0\" ></th>        <th class=\"col_heading level0 col0\" >Vser(mL)</th>        <th class=\"col_heading level0 col1\" >Umin(V)</th>        <th class=\"col_heading level0 col2\" >Umax(V)</th>    </tr></thead><tbody>\n",
       "                <tr>\n",
       "                        <th id=\"T_baeaf_level0_row0\" class=\"row_heading level0 row0\" >0</th>\n",
       "                        <td id=\"T_baeaf_row0_col0\" class=\"data row0 col0\" >18</td>\n",
       "                        <td id=\"T_baeaf_row0_col1\" class=\"data row0 col1\" >5.67</td>\n",
       "                        <td id=\"T_baeaf_row0_col2\" class=\"data row0 col2\" >5.74</td>\n",
       "            </tr>\n",
       "            <tr>\n",
       "                        <th id=\"T_baeaf_level0_row1\" class=\"row_heading level0 row1\" >1</th>\n",
       "                        <td id=\"T_baeaf_row1_col0\" class=\"data row1 col0\" >24</td>\n",
       "                        <td id=\"T_baeaf_row1_col1\" class=\"data row1 col1\" >4.36</td>\n",
       "                        <td id=\"T_baeaf_row1_col2\" class=\"data row1 col2\" >4.46</td>\n",
       "            </tr>\n",
       "            <tr>\n",
       "                        <th id=\"T_baeaf_level0_row2\" class=\"row_heading level0 row2\" >2</th>\n",
       "                        <td id=\"T_baeaf_row2_col0\" class=\"data row2 col0\" >30</td>\n",
       "                        <td id=\"T_baeaf_row2_col1\" class=\"data row2 col1\" >3.58</td>\n",
       "                        <td id=\"T_baeaf_row2_col2\" class=\"data row2 col2\" >3.75</td>\n",
       "            </tr>\n",
       "            <tr>\n",
       "                        <th id=\"T_baeaf_level0_row3\" class=\"row_heading level0 row3\" >3</th>\n",
       "                        <td id=\"T_baeaf_row3_col0\" class=\"data row3 col0\" >34</td>\n",
       "                        <td id=\"T_baeaf_row3_col1\" class=\"data row3 col1\" >3.22</td>\n",
       "                        <td id=\"T_baeaf_row3_col2\" class=\"data row3 col2\" >3.34</td>\n",
       "            </tr>\n",
       "            <tr>\n",
       "                        <th id=\"T_baeaf_level0_row4\" class=\"row_heading level0 row4\" >4</th>\n",
       "                        <td id=\"T_baeaf_row4_col0\" class=\"data row4 col0\" >40</td>\n",
       "                        <td id=\"T_baeaf_row4_col1\" class=\"data row4 col1\" >2.85</td>\n",
       "                        <td id=\"T_baeaf_row4_col2\" class=\"data row4 col2\" >2.91</td>\n",
       "            </tr>\n",
       "            <tr>\n",
       "                        <th id=\"T_baeaf_level0_row5\" class=\"row_heading level0 row5\" >5</th>\n",
       "                        <td id=\"T_baeaf_row5_col0\" class=\"data row5 col0\" >50</td>\n",
       "                        <td id=\"T_baeaf_row5_col1\" class=\"data row5 col1\" >2.34</td>\n",
       "                        <td id=\"T_baeaf_row5_col2\" class=\"data row5 col2\" >2.48</td>\n",
       "            </tr>\n",
       "            <tr>\n",
       "                        <th id=\"T_baeaf_level0_row6\" class=\"row_heading level0 row6\" >6</th>\n",
       "                        <td id=\"T_baeaf_row6_col0\" class=\"data row6 col0\" >60</td>\n",
       "                        <td id=\"T_baeaf_row6_col1\" class=\"data row6 col1\" >2.02</td>\n",
       "                        <td id=\"T_baeaf_row6_col2\" class=\"data row6 col2\" >2.18</td>\n",
       "            </tr>\n",
       "    </tbody></table>"
      ],
      "text/plain": [
       "<pandas.io.formats.style.Styler at 0x7f1787263a90>"
      ]
     },
     "execution_count": 1,
     "metadata": {},
     "output_type": "execute_result"
    }
   ],
   "source": [
    "import pandas as pd\n",
    "import numpy as np\n",
    "\n",
    "Vser = np.array([18, 24, 30, 34, 40, 50, 60])\n",
    "Umin = np.array([5.67, 4.36, 3.58, 3.22, 2.85, 2.34, 2.02])\n",
    "Umax = np.array([5.74, 4.46, 3.75, 3.34, 2.91, 2.48, 2.18])\n",
    "\n",
    "donnees = pd.DataFrame(\n",
    "    {\n",
    "        \"Vser(mL)\": [\"{:.0f}\".format(val) for val in Vser],\n",
    "        \"Umin(V)\": [\"{:.2f}\".format(val) for val in Umin],\n",
    "        \"Umax(V)\": [\"{:.2f}\".format(val) for val in Umax],\n",
    "    }\n",
    ")\n",
    "\n",
    "donnees.style"
   ]
  },
  {
   "cell_type": "markdown",
   "id": "brilliant-leisure",
   "metadata": {},
   "source": [
    "### Exploitation des résultats.\n",
    "Si vous ne comprendez pas le principe de cette partie, reprendre la [propagation des incertitudes](indirecte) et [l'ajustement linéaire](regression).\n",
    "\n",
    "Puisqu'on doit estimer les incertitudes de mesures sur $V$ et $P$ pour les tracés, on va réaliser une simulation de Monte-Carlo. On va donc :\n",
    "* Pour chaque (=boucle) volume d'air, estimer N fois le volume $V$ et la pression $P$ et $1/V$ puis en déduire leurs valeurs mesurées (moyenne) et leur incertitude (écart-type). On stockera toutes les valeurs simulées et on rendra compte dans un tableau des résultats de mesure avec leurs incertitudes.\n",
    "* Tracer $P=f(1/V)$ avec les croix d'incertitude pour tester la validité de la loi de Mariotte.\n",
    "* Si la loi de Mariotte est vérifiée, réaliser N ajustements affines à partir des valeurs simulées de $V$ et $P$ pour obtenir une estimation de la pente $nRT$ ainsi que son incertitude. On estimera aussi l'ordonnée à l'origine et son incertitude pour vérifier la validité d'un modèle linéaire et non affine.\n",
    "* On déduira $n$ de l'estimation de la pente (on prolonge la simulation de Monte-Carlo pour composer l'incertitude sur la pente avec celle sur $T$).\n",
    "\n",
    "#### Estimation des volumes et pression. \n",
    "_Le code est en ligne._\n",
    "Si vous ne comprendez pas le principe de cette partie, reprendre la [propagation des incertitudes](indirecte)."
   ]
  },
  {
   "cell_type": "code",
   "execution_count": 2,
   "id": "julian-result",
   "metadata": {
    "tags": [
     "hide-input"
    ]
   },
   "outputs": [
    {
     "data": {
      "image/png": "[encoded data removed]",
      "text/plain": [
       "<Figure size 432x288 with 1 Axes>"
      ]
     },
     "metadata": {
      "filenames": {
       "image/png": "/home/ubuntu/Dropbox/Enseignement prepas/travaux_pratiques/sources/tp_incertitude/_build/jupyter_execute/notebook/exemple_3_0.png"
      },
      "needs_background": "light"
     },
     "output_type": "display_data"
    }
   ],
   "source": [
    "\"\"\"\n",
    "Comme d'habitude, on commence par importer les bibliothèques scientifiques\n",
    "\"\"\"\n",
    "import numpy as np  # Calcul sur les vecteurs numpy\n",
    "import numpy.random as rd  # Tirages alératoires\n",
    "import matplotlib.pyplot as plt  # Tracés graphiques\n",
    "\n",
    "\n",
    "\"\"\"\n",
    "On rentre les données brutes\n",
    "\"\"\"\n",
    "L = 4  # Longueur du tuyau (en cm pour obtenir des cm^3 soit des mL)\n",
    "uL = 0.2  # Incertitude sur L\n",
    "d = 0.1  # Diamètre\n",
    "\n",
    "Vser = np.array([18, 24, 30, 34, 40, 50, 60])  # Volume de la seringue\n",
    "uVser = 1  # Demi-largeur de la distribution\n",
    "\n",
    "Umin = np.array([5.67, 4.36, 3.58, 3.22, 2.85, 2.34, 2.02])  # Tension min\n",
    "Umax = np.array([5.74, 4.46, 3.75, 3.34, 2.91, 2.48, 2.18])  # Tension max\n",
    "Umoy = (Umax + Umin) / 2  # Valeur moyenne des tensions\n",
    "dU = (Umax - Umin) / 2  # Demi-largeur de la distribution uniforme\n",
    "\n",
    "\"\"\"Coefficient de la relation P = aU + b\"\"\"\n",
    "a = 218.5  \n",
    "b = 107.3\n",
    "\n",
    "\"\"\"Simulation de Monte-Carlo\"\"\"\n",
    "\n",
    "Vs = []  # On va stocker les vecteurs de valeurs simulées de V dans une liste (une liste de vecteurs donc)\n",
    "V_moy = []  # On va stocker les valeurs moyennes des volumes\n",
    "V_inc = []  # On va stocker les écart-types des volumes\n",
    "invVs = []  # On va stocker les vecteurs de valeurs simulées de 1/V dans une liste (une liste de vecteurs donc)\n",
    "invV_moy = []  # On va stocker les valeurs moyennes des 1/V\n",
    "invV_inc = []  # On va stocker les écart-types des 1/V\n",
    "\n",
    "Ps = []  # On va stocker les vecteurs de valeurs simulées de P dans une liste (une liste de vecteurs donc)\n",
    "P_moy = []  # On va stocker les valeurs moyennes des pressions\n",
    "P_inc = []  # On va stocker les écart-types des pressions\n",
    "Nmes = len(Vser)  # Nombre de mesures réalisées.\n",
    "N = 10000  # Nombre de simulations\n",
    "\n",
    "for i in range(Nmes):  # Parcours des valeurs mesurées.\n",
    "\t\"\"\"Simulation des valeurs pour estimer les volumes\"\"\"\n",
    "\tL_sim = rd.uniform(-uL, uL, N)  # Valeurs simulées de L\n",
    "\tVser_sim = rd.uniform(-uVser, uVser, N) + Vser[i]  # Valeurs simulées de Vser\n",
    "\n",
    "\tV_sim = Vser_sim + np.pi * d ** 2 / 4 * L_sim  # Calcul des valeurs simulées de V\n",
    "\tVs.append(V_sim)  # Ajout des valeurs au tableau Vs\n",
    "\tV_moy.append(np.mean(V_sim))  # Ajout de la moyenne de V\n",
    "\tV_inc.append(np.std(V_sim, ddof=1))  # Ajout de l'écart-type de V\n",
    "\t\n",
    "\t\"\"\"Estimation des 1/V\"\"\"\n",
    "\tinvV_sim = 1 / V_sim  # Calcul des valeurs simulées de 1/V\n",
    "\tinvVs.append(invV_sim)  # Ajout des valeurs au tableau invVs\n",
    "\tinvV_moy.append(np.mean(invV_sim))  # Ajout de la moyenne de 1/V\n",
    "\tinvV_inc.append(np.std(invV_sim, ddof=1))  # Ajout de l'écart-type de 1/V\n",
    "\n",
    "\t\"\"\"Estimation des pressions\"\"\"\n",
    "\tU_sim = rd.uniform(-dU[i], dU[i], N) + Umoy[i]  # Calcul des valeurs simulées de U\n",
    "\tP_sim = a * U_sim + b  #Calcul des valeurs simulées de P\n",
    "\tPs.append(P_sim)  # Ajout des valeurs au tableau Ps\n",
    "\tP_moy.append(np.mean(P_sim))  # Ajout de la moyenne de P\n",
    "\tP_inc.append(np.std(P_sim, ddof=1))  # Ajout de l'écart-type de P\n",
    "\n",
    "\"\"\"Tracé de P=f(1/V)\"\"\"\n",
    "f, ax = plt.subplots()\n",
    "f.suptitle(\"Test de la loi de Mariotte\")\n",
    "ax.set_xlabel(\"1/V (mL^-1)\")\n",
    "ax.set_ylabel(\"P(hPa)\")\n",
    "\n",
    "ax.errorbar(invV_moy, P_moy, xerr=invV_inc, yerr=P_inc, label=\"P(1/V)\", marker='+', linestyle='') # Tracé sans relier les points\n",
    "\n",
    "ax.legend()\n",
    "plt.show()"
   ]
  },
  {
   "cell_type": "markdown",
   "id": "respected-speaking",
   "metadata": {},
   "source": [
    "On observe que le tracé $P = f(1/V)$ est visuellement cohérent avec une relation linéaire (au moins affine). On va donc poursuivre l'étude avec un ajustement par un modèle affine. Avant, on rend compte des résultats de mesure (en pratique, il faudrait mieux arrondir mais l'affichage par Python a ici ses limites : quelques valeurs pour les incertitudes de 1/V et P ont 3 chiffres significatifs au lieu de 2). _Pour des valeurs intermédiaires, ce n'est pas trop critique_."
   ]
  },
  {
   "cell_type": "code",
   "execution_count": 3,
   "id": "documented-ideal",
   "metadata": {
    "tags": [
     "remove-input"
    ]
   },
   "outputs": [
    {
     "data": {
      "text/html": [
       "<style  type=\"text/css\" >\n",
       "</style><table id=\"T_32e90_\" ><thead>    <tr>        <th class=\"blank level0\" ></th>        <th class=\"col_heading level0 col0\" >V(mL)</th>        <th class=\"col_heading level0 col1\" >u(V)(mL)</th>        <th class=\"col_heading level0 col2\" >1/V(mL^-1)</th>        <th class=\"col_heading level0 col3\" >u(1/V)(mL^-1)</th>        <th class=\"col_heading level0 col4\" >P(hPa)</th>        <th class=\"col_heading level0 col5\" >u(P)(hPa)</th>    </tr></thead><tbody>\n",
       "                <tr>\n",
       "                        <th id=\"T_32e90_level0_row0\" class=\"row_heading level0 row0\" >0</th>\n",
       "                        <td id=\"T_32e90_row0_col0\" class=\"data row0 col0\" >17.99</td>\n",
       "                        <td id=\"T_32e90_row0_col1\" class=\"data row0 col1\" >0.58</td>\n",
       "                        <td id=\"T_32e90_row0_col2\" class=\"data row0 col2\" >0.05560</td>\n",
       "                        <td id=\"T_32e90_row0_col3\" class=\"data row0 col3\" >0.00180</td>\n",
       "                        <td id=\"T_32e90_row0_col4\" class=\"data row0 col4\" >1353.8</td>\n",
       "                        <td id=\"T_32e90_row0_col5\" class=\"data row0 col5\" >4.4</td>\n",
       "            </tr>\n",
       "            <tr>\n",
       "                        <th id=\"T_32e90_level0_row1\" class=\"row_heading level0 row1\" >1</th>\n",
       "                        <td id=\"T_32e90_row1_col0\" class=\"data row1 col0\" >24.00</td>\n",
       "                        <td id=\"T_32e90_row1_col1\" class=\"data row1 col1\" >0.58</td>\n",
       "                        <td id=\"T_32e90_row1_col2\" class=\"data row1 col2\" >0.04170</td>\n",
       "                        <td id=\"T_32e90_row1_col3\" class=\"data row1 col3\" >0.00100</td>\n",
       "                        <td id=\"T_32e90_row1_col4\" class=\"data row1 col4\" >1070.9</td>\n",
       "                        <td id=\"T_32e90_row1_col5\" class=\"data row1 col5\" >6.3</td>\n",
       "            </tr>\n",
       "            <tr>\n",
       "                        <th id=\"T_32e90_level0_row2\" class=\"row_heading level0 row2\" >2</th>\n",
       "                        <td id=\"T_32e90_row2_col0\" class=\"data row2 col0\" >30.01</td>\n",
       "                        <td id=\"T_32e90_row2_col1\" class=\"data row2 col1\" >0.57</td>\n",
       "                        <td id=\"T_32e90_row2_col2\" class=\"data row2 col2\" >0.03334</td>\n",
       "                        <td id=\"T_32e90_row2_col3\" class=\"data row2 col3\" >0.00064</td>\n",
       "                        <td id=\"T_32e90_row2_col4\" class=\"data row2 col4\" >908.0</td>\n",
       "                        <td id=\"T_32e90_row2_col5\" class=\"data row2 col5\" >11.0</td>\n",
       "            </tr>\n",
       "            <tr>\n",
       "                        <th id=\"T_32e90_level0_row3\" class=\"row_heading level0 row3\" >3</th>\n",
       "                        <td id=\"T_32e90_row3_col0\" class=\"data row3 col0\" >34.00</td>\n",
       "                        <td id=\"T_32e90_row3_col1\" class=\"data row3 col1\" >0.58</td>\n",
       "                        <td id=\"T_32e90_row3_col2\" class=\"data row3 col2\" >0.02942</td>\n",
       "                        <td id=\"T_32e90_row3_col3\" class=\"data row3 col3\" >0.00050</td>\n",
       "                        <td id=\"T_32e90_row3_col4\" class=\"data row3 col4\" >823.9</td>\n",
       "                        <td id=\"T_32e90_row3_col5\" class=\"data row3 col5\" >7.6</td>\n",
       "            </tr>\n",
       "            <tr>\n",
       "                        <th id=\"T_32e90_level0_row4\" class=\"row_heading level0 row4\" >4</th>\n",
       "                        <td id=\"T_32e90_row4_col0\" class=\"data row4 col0\" >39.98</td>\n",
       "                        <td id=\"T_32e90_row4_col1\" class=\"data row4 col1\" >0.58</td>\n",
       "                        <td id=\"T_32e90_row4_col2\" class=\"data row4 col2\" >0.02502</td>\n",
       "                        <td id=\"T_32e90_row4_col3\" class=\"data row4 col3\" >0.00036</td>\n",
       "                        <td id=\"T_32e90_row4_col4\" class=\"data row4 col4\" >736.5</td>\n",
       "                        <td id=\"T_32e90_row4_col5\" class=\"data row4 col5\" >3.8</td>\n",
       "            </tr>\n",
       "            <tr>\n",
       "                        <th id=\"T_32e90_level0_row5\" class=\"row_heading level0 row5\" >5</th>\n",
       "                        <td id=\"T_32e90_row5_col0\" class=\"data row5 col0\" >50.01</td>\n",
       "                        <td id=\"T_32e90_row5_col1\" class=\"data row5 col1\" >0.58</td>\n",
       "                        <td id=\"T_32e90_row5_col2\" class=\"data row5 col2\" >0.02000</td>\n",
       "                        <td id=\"T_32e90_row5_col3\" class=\"data row5 col3\" >0.00023</td>\n",
       "                        <td id=\"T_32e90_row5_col4\" class=\"data row5 col4\" >633.9</td>\n",
       "                        <td id=\"T_32e90_row5_col5\" class=\"data row5 col5\" >8.9</td>\n",
       "            </tr>\n",
       "            <tr>\n",
       "                        <th id=\"T_32e90_level0_row6\" class=\"row_heading level0 row6\" >6</th>\n",
       "                        <td id=\"T_32e90_row6_col0\" class=\"data row6 col0\" >59.99</td>\n",
       "                        <td id=\"T_32e90_row6_col1\" class=\"data row6 col1\" >0.58</td>\n",
       "                        <td id=\"T_32e90_row6_col2\" class=\"data row6 col2\" >0.01667</td>\n",
       "                        <td id=\"T_32e90_row6_col3\" class=\"data row6 col3\" >0.00016</td>\n",
       "                        <td id=\"T_32e90_row6_col4\" class=\"data row6 col4\" >566.0</td>\n",
       "                        <td id=\"T_32e90_row6_col5\" class=\"data row6 col5\" >10.0</td>\n",
       "            </tr>\n",
       "    </tbody></table>"
      ],
      "text/plain": [
       "<pandas.io.formats.style.Styler at 0x7f1785a64f40>"
      ]
     },
     "execution_count": 3,
     "metadata": {},
     "output_type": "execute_result"
    }
   ],
   "source": [
    "def get_rang(inc):\n",
    "\treturn int(-(np.ceil(np.log10(inc)) - 2))\n",
    "\n",
    "\n",
    "def get_aff(mes, inc):\n",
    "\tnmes = len(mes)\n",
    "\treturn [round(mes[i], get_rang(inc[i])) for i in range(nmes)]\n",
    "\n",
    "P_aff = get_aff(P_moy,P_inc)\n",
    "V_aff = get_aff(V_moy,V_inc)\n",
    "invV_aff = get_aff(invV_moy,invV_inc)\n",
    "\n",
    "uP_aff = get_aff(P_inc,P_inc)\n",
    "uV_aff = get_aff(V_inc,V_inc)\n",
    "uinvV_aff = get_aff(invV_inc,invV_inc)\n",
    "\n",
    "donnees2 = pd.DataFrame(\n",
    "    {\n",
    "        \"V(mL)\": [\"{:.2f}\".format(x) for x in V_aff],\n",
    "        \"u(V)(mL)\": [\"{:.2f}\".format(x) for x in uV_aff],\n",
    "        \"1/V(mL^-1)\": [\"{:.5f}\".format(x) for x in invV_aff],\n",
    "        \"u(1/V)(mL^-1)\": [\"{:.5f}\".format(x) for x in uinvV_aff],\n",
    "        \"P(hPa)\": [\"{:.1f}\".format(x) for x in P_aff],\n",
    "        \"u(P)(hPa)\": [\"{:.1f}\".format(x) for x in uP_aff],\n",
    "    }\n",
    ")\n",
    "\n",
    "donnees2.style"
   ]
  },
  {
   "cell_type": "markdown",
   "id": "thermal-humidity",
   "metadata": {},
   "source": [
    "#### Ajustement linéaire\n",
    "Si vous ne comprendez pas le principe la suite, reprendre [l'ajustement linéaire](regression)."
   ]
  },
  {
   "cell_type": "code",
   "execution_count": 4,
   "id": "conceptual-austin",
   "metadata": {
    "tags": [
     "hide-input"
    ]
   },
   "outputs": [
    {
     "name": "stdout",
     "output_type": "stream",
     "text": [
      "---------------------------------------\n",
      "L'ordonnée à l'origine est 231 +/- 22 hPa\n",
      "---------------------------------------\n"
     ]
    },
    {
     "data": {
      "image/png": "[encoded data removed]",
      "text/plain": [
       "<Figure size 432x288 with 2 Axes>"
      ]
     },
     "metadata": {
      "filenames": {
       "image/png": "/home/ubuntu/Dropbox/Enseignement prepas/travaux_pratiques/sources/tp_incertitude/_build/jupyter_execute/notebook/exemple_7_1.png"
      },
      "needs_background": "light"
     },
     "output_type": "display_data"
    }
   ],
   "source": [
    "\"\"\"On réalise maintenant l'ajustement linéaire pour chaque groupe d'échantillons simulés.\"\"\"\n",
    "nRTs = []  # On va stocker les pentes\n",
    "ordo = []  # On av stocker les ordonnées à l'origine\n",
    "for i in range(N):\n",
    "\tinvV = [x[i] for x in invVs]  # On utilise la compréhension de liste pour sélectionner le ième élément pour chaque volume.\n",
    "\tP = [x[i] for x in Ps]  # On utilise la compréhension de liste pour sélectionner le ième élément pour chaque pression.\n",
    "\tpar = np.polyfit(invV, P, 1)  # Régression linéaire\n",
    "\tnRTs.append(par[0])  # Stockage de la pente\n",
    "\tordo.append(par[1])  # Stockage de l'ordonnée à l'origine\n",
    "\n",
    "\"\"\"Calcul de la moyenne et écart-type\"\"\"\n",
    "nRT_moy = np.mean(nRTs)  # Moyenne (Estimation de nRT)\n",
    "nRT_inc = np.std(nRTs, ddof=1)  # Ecart-type (Estimation de l'incertitude sur nRT)\n",
    "ordo_moy = np.mean(ordo)\n",
    "ordo_inc = np.std(ordo, ddof=1)\n",
    "\n",
    "print(\"---------------------------------------\")\n",
    "print(\"L'ordonnée à l'origine est {:.0f} +/- {:.0f} hPa\".format(ordo_moy, ordo_inc))\n",
    "print(\"---------------------------------------\")\n",
    "\n",
    "P_adj = nRT_moy * np.array(invV_moy) + ordo_moy  # Estimation des valeurs ajustées pour le tracé\n",
    "\"\"\"Remarque : On doit transformer invV_moy en un vecteur numpy pour appliquer une opération à chaque élément.\"\"\"\n",
    "en = (P_moy - P_adj) / P_inc  # Ecarts normalisés\n",
    "\n",
    "\"\"\"Tracé de P=f(1/V)\"\"\"\n",
    "f, ax = plt.subplots(1, 2)  # On trace deux graphiques : P(1/V) avec le modèle ajusté et les écarts normalisés\n",
    "f.suptitle(\"Test de la loi de Mariotte\")\n",
    "ax[0].set_xlabel(\"1/V (mL^-1)\")\n",
    "ax[0].set_ylabel(\"P(hPa)\")\n",
    "\n",
    "\"\"\"Comparaison graphique entre les points de mesure et le modèle ajusté\"\"\"\n",
    "ax[0].errorbar(invV_moy, P_moy, xerr=invV_inc, yerr=P_inc, label=\"P(1/V)\", marker='+', linestyle='', color='red') # Tracé sans relier les points\n",
    "ax[0].plot(invV_moy, P_adj, label=\"Ajustement\", linestyle=':', color='blue') # Tracé sans relier les points\n",
    "ax[0].legend()\n",
    "\n",
    "\"\"\"Calcul des écarts normalisés\"\"\"\n",
    "ax[1].plot(invV_moy, en, label=\"EN\", marker=\"+\", linestyle='')\n",
    "ax[1].legend()\n",
    "plt.show()"
   ]
  },
  {
   "cell_type": "markdown",
   "id": "responsible-addition",
   "metadata": {},
   "source": [
    "On observe que :\n",
    "* La droite d'ajustement passe par les croix d'incertitude et les écarts normalisés sont tous inférieurs à 2, on peut donc considérer que l'ajustement est compatible avec les données de mesure.\n",
    "* L'ordonnée à l'origine possède un intervalle qui contient 0 (ou l'écart normalisé à 0 est inférieur à 2) donc on peut considérer que le modèle linéaire est acceptable.\n",
    "\n",
    "On peut donc conclure que __le modèle de Mariotte est acceptable pour l'air dans les conditions de température et de pression du laboratoire.__\n",
    "\n",
    "On va donc pouvoir utiliser ces données pour mesurer le nombre de moles."
   ]
  },
  {
   "cell_type": "code",
   "execution_count": 5,
   "id": "pregnant-quick",
   "metadata": {
    "tags": [
     "hide-input"
    ]
   },
   "outputs": [
    {
     "name": "stdout",
     "output_type": "stream",
     "text": [
      "---------------------------------------\n",
      "Nombre de mole. n = -9.97e-04 +/- 4.2e-05 mol\n",
      "---------------------------------------\n"
     ]
    }
   ],
   "source": [
    "\"\"\"Estimation du nombre de moles.\n",
    "On réutilise les données simulées pour la pente nRT.\n",
    "\"\"\"\n",
    "R = 8.314  # Constante des gaz parfaits\n",
    "T_mes = 30.1\n",
    "uT = 1.5\n",
    "T_sim = rd.uniform(-uT, uT, N) + T_mes - 273.5  # On simule T en Kelvin\n",
    "\n",
    "\"\"\"On va modifier les unités :\n",
    "nRT = PV\n",
    "- ici P est en hPa : on multiplie par 10^2\n",
    "- V est en mL : on multiplie par 10^-6\n",
    "\"\"\"\n",
    "n_sim = nRTs / (R * T_sim) * 1e-4\n",
    "\n",
    "n_moy = np.mean(n_sim)\n",
    "n_inc = np.std(n_sim, ddof=1)\n",
    "\n",
    "print(\"---------------------------------------\")\n",
    "print(\"Nombre de mole. n = {:.2e} +/- {:.1e} mol\".format(n_moy, n_inc))\n",
    "print(\"---------------------------------------\")"
   ]
  },
  {
   "cell_type": "markdown",
   "id": "baking-ownership",
   "metadata": {},
   "source": [
    "On n'a pas de valeur attendue pour le nombre de mole et on est dans l'ordre de grandeur attendu vu le volume occupé à pression ambiante."
   ]
  }
 ],
 "metadata": {
  "jupytext": {
   "encoding": "# -*- coding: utf-8 -*-",
   "formats": "ipynb,md:myst",
   "split_at_heading": true,
   "text_representation": {
    "extension": ".md",
    "format_name": "myst",
    "format_version": 0.13,
    "jupytext_version": "1.10.3"
   }
  },
  "kernelspec": {
   "display_name": "Python 3",
   "language": "python",
   "name": "python3"
  },
  "language_info": {
   "codemirror_mode": {
    "name": "ipython",
    "version": 3
   },
   "file_extension": ".py",
   "mimetype": "text/x-python",
   "name": "python",
   "nbconvert_exporter": "python",
   "pygments_lexer": "ipython3",
   "version": "3.9.2"
  },
  "source_map": [
   15,
   80,
   98,
   113,
   190,
   194,
   225,
   230,
   272,
   282,
   306
  ]
 },
 "nbformat": 4,
 "nbformat_minor": 5
}