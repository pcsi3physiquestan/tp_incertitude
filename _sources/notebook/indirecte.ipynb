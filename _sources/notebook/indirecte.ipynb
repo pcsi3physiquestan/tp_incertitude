{
 "cells": [
  {
   "cell_type": "markdown",
   "id": "193cf3ef",
   "metadata": {},
   "source": [
    "Dans cette partie, vous allez apprendre à propager des incertitudes vers des mesurandes indirects.\n",
    "\n",
    "```{margin}\n",
    "Pour rappel un mesurande _direct_ est obtenu par lecture sur un instrument de mesure alors qu'un mesurande _indirect_ est obtenue par calcul à partir des mesurandes directs.\n",
    "```\n",
    "\n",
    "Cette fois, on ne peut évaluer des composantes de l'incertitude d'un mesurande indirect liés au processus de lecture du résultat de mesurage, \n",
    "puisqu'on le calcule.\n",
    "\n",
    "# Incertitude des mesurandes indirectes."
   ]
  },
  {
   "cell_type": "markdown",
   "id": "6f647fa8",
   "metadata": {},
   "source": [
    "## Position du problème.\n",
    "On a mesuré des grandeurs $X_i$ dont on a estimé l'incertitude-type (et la distibution statistique possiblement) et on considère un mesurande Y qu'on recherche et qu'on peut estimer grâce à une relation :\n",
    "\n",
    "$$\n",
    "Y = f(X_i)\n",
    "$$\n",
    "On veut estimer l'incertitude-type sur Y et possiblement aussi sa distribution statistique.\n",
    "\n",
    "```{topic} Exemple\n",
    "On veut mesurer la valeur $R$ d'une résistance électrique. On a mesuré la tension $U$ à ses bornes et l'intensité $I$ qui la traverse. On va estimer la résistance en utilisant la loi d'Ohm :  $R = U / I$.\n",
    "```"
   ]
  },
  {
   "cell_type": "markdown",
   "id": "d960dc74",
   "metadata": {},
   "source": [
    "````{topic} Méthodes\n",
    "Il existe deux méthodes :\n",
    "1. La __simulation de Monte-Carlo__. Le principe est exactement le même que précédemment. La différence est qu'on a plus besoin de centrer les distributions des $X_i$ autour de 0.\n",
    "2. La __propagation des variances__. On utilise des relations entre les variances de grandeurs liés entre elles.\n",
    "```{attention} \n",
    "Dans les deux cas, on est obligé de supposer que les mesurandes $X_i$ sont tous indépendants. Sinon, les deux méthodes ne sont pas valables.\n",
    "```\n",
    "````"
   ]
  },
  {
   "cell_type": "markdown",
   "id": "bdfb5d84",
   "metadata": {},
   "source": [
    "## Simulation de Monte-Carlo.\n",
    "\n",
    "````{topic} Rappel\n",
    "On rappelle brièvement le principe de la simulation de Monte-Carlo. On connaît la distribution statistique de chaque mesurande $X_i$. On va simuler N échantillons de chaque $X_i$ puis on calcule ainsi N échantillons $Y$. On obtient ainsi la distribution des valeurs de $Y$ et on peut calculer son incertitude de mesure.\n",
    "\n",
    "\n",
    "![Principe de la simulation de Monte-Carlo](./images/simulation_mc.png)\n",
    "````"
   ]
  },
  {
   "cell_type": "markdown",
   "id": "488eca22",
   "metadata": {},
   "source": [
    "### Exemple\n",
    "```{margin}\n",
    "On a supposé pour simplifier que les incertitude-type et distribution des mesurandes directs ont déjà été déterminées. En pratique, elles sont souvent déterminées à partir d'une ou plusieurs sources d'incertitudes. On peut alors combiner la méthode présentée précédemment et celle présentée ici.\n",
    "```\n",
    "````{topic} Résistance électrique\n",
    "On reprend l'exemple précédent de l'estimation de l'incertitude de la résistance R. On a mesuré tension et intensité. On a trouvé :\n",
    " \n",
    "* Un tension $U = 4.53 V$ avec une incertitude $u(U) = 0.03 V$. On a estimé que la loi de probabilité étant gaussienne.\n",
    "* Une intensité $I = 12.14 mA$ avec une incertitude $u(I) = 0.08 mA$. On a estimé que la loi de probabilité étant gaussienne.\n",
    "\n",
    "La méthode est :\n",
    "1. On créer deux vecteurs de taille N contenant des tirages aléatoires de U et I basés sur les distibutions choisies.\n",
    "2. On obtient un vecteur de taille N contenant des valeurs simulés de R.\n",
    "3. On trace l'histogramme et on calcule la moyenne et l'écart-type de la distribution qui nous donnerons le résultat de mesurage et l'incertitude-type.\n",
    "\n",
    "\n",
    "```{glue:figure} R_graph\n",
    ":name: label_image\n",
    ":align: center\n",
    "Titre\n",
    "```\n",
    "\n",
    "On obtient R = {glue:text}`R_val:.1f` $\\pm$ {glue:text}`R_u:.1f` $\\Omega$.\n",
    "````"
   ]
  },
  {
   "cell_type": "code",
   "execution_count": 1,
   "id": "a306de5b",
   "metadata": {
    "tags": [
     "remove-cell"
    ]
   },
   "outputs": [
    {
     "data": {
      "image/png": "[encoded data removed]",
      "text/plain": [
       "<Figure size 432x288 with 1 Axes>"
      ]
     },
     "metadata": {
      "filenames": {
       "image/png": "D:\\cedri\\Dropbox\\Enseignement prepas\\travaux_pratiques\\sources\\tp_incertitude\\_build\\jupyter_execute\\notebook\\indirecte_5_0.png"
      },
      "scrapbook": {
       "mime_prefix": "application/papermill.record/",
       "name": "R_graph"
      }
     },
     "output_type": "display_data"
    },
    {
     "data": {
      "text/plain": [
       "373.16364162988725"
      ]
     },
     "metadata": {
      "scrapbook": {
       "mime_prefix": "application/papermill.record/",
       "name": "R_val"
      }
     },
     "output_type": "display_data"
    },
    {
     "data": {
      "text/plain": [
       "3.4881136054510087"
      ]
     },
     "metadata": {
      "scrapbook": {
       "mime_prefix": "application/papermill.record/",
       "name": "R_u"
      }
     },
     "output_type": "display_data"
    },
    {
     "data": {
      "image/png": "[encoded data removed]",
      "text/plain": [
       "<Figure size 432x288 with 1 Axes>"
      ]
     },
     "metadata": {
      "filenames": {
       "image/png": "D:\\cedri\\Dropbox\\Enseignement prepas\\travaux_pratiques\\sources\\tp_incertitude\\_build\\jupyter_execute\\notebook\\indirecte_5_3.png"
      },
      "needs_background": "light"
     },
     "output_type": "display_data"
    }
   ],
   "source": [
    "from myst_nb import glue\n",
    "import numpy.random as rd  # La bibliothèque numpy.random contient les fonctions générant des échantillons aléatoires.\n",
    "import numpy as np  # La biliothèque numpy permettra de calculer la moyenne et l'écart-type d'un ensemble des valeurs.\n",
    "\n",
    "\"\"\"On importe aussi matplotlib.pyplot pour les tracés\"\"\"\n",
    "import matplotlib.pyplot as plt\n",
    "\n",
    "\"\"\"\n",
    "On commence par créer les N échantillons de U et I.\n",
    "\"\"\"\n",
    "N = 1000000  # Nombre d'échantillons à réaliser.\n",
    "U = 4.53\n",
    "uU = 0.03\n",
    "I = 12.14  # On travaille en mA pour ne pas gérer des nombres trop petits.\n",
    "uI = 0.08  # Même remarque\n",
    "\n",
    "Uech = rd.normal(U, uU, N)  # Création des échantillons pour U\n",
    "Iech = rd.normal(I, uI, N)  # Création des échantillons pour I\n",
    "\n",
    "\n",
    "\"\"\"\n",
    "On va créer les échantillons de R.\n",
    "Ici, l'opération est une simple division et Uech et Iech sont des vecteurs numpy. On peut donc\n",
    "écrire directement Uech / Iech pour diviser les éléments termes à termes (vectorialisation).\n",
    "\"\"\"\n",
    "Rech = Uech / Iech\n",
    "\n",
    "\"\"\"\n",
    "On va tracer l'histogramme en fréquences des valeurs de R. On pourra l'analyser par la suite.\n",
    "\"\"\"\n",
    "f, ax = plt.subplots()  # On crée une fenêtre graphique et des axes.\n",
    "f.suptitle(\"Distribution des valeurs simulées de R\")  # On titre le graphique\n",
    "\n",
    "ax.set_xlabel(\"Valeurs de R\")  # On légende l'axe des abscisses\n",
    "ax.set_ylabel(\"Fréquences\")  # On légende l'axe des ordonnées\n",
    "\n",
    "ax.hist(Rech, bins='rice')  # On créer l'histogramme des valeurs.\n",
    "\n",
    "\"\"\"\n",
    "On calcule la moyenne et l'écart comme valeur mesurée et incertitude-type\n",
    "\"\"\"\n",
    "R = np.mean(Rech)\n",
    "uR = np.std(Rech, ddof=1)  # Calcul de l'écart-type. L'option ddof permet de diviser par N-1 et non par N.\n",
    "\n",
    "glue(\"R_graph\", f, display=False)\n",
    "glue(\"R_val\", R * 1000, display=False)\n",
    "glue(\"R_u\", uR * 1000, display=False)"
   ]
  },
  {
   "cell_type": "markdown",
   "id": "239ca946",
   "metadata": {},
   "source": [
    "## Propagation des variances\n",
    "Cette méthode sera présentée plus tard dans l'année."
   ]
  }
 ],
 "metadata": {
  "jupytext": {
   "formats": "ipynb,md:myst",
   "split_at_heading": true,
   "text_representation": {
    "extension": ".md",
    "format_name": "myst",
    "format_version": 0.13,
    "jupytext_version": "1.10.3"
   }
  },
  "kernelspec": {
   "display_name": "Python 3",
   "language": "python",
   "name": "python3"
  },
  "language_info": {
   "codemirror_mode": {
    "name": "ipython",
    "version": 3
   },
   "file_extension": ".py",
   "mimetype": "text/x-python",
   "name": "python",
   "nbconvert_exporter": "python",
   "pygments_lexer": "ipython3",
   "version": "3.7.12"
  },
  "source_map": [
   14,
   27,
   40,
   52,
   65,
   92,
   141
  ]
 },
 "nbformat": 4,
 "nbformat_minor": 5
}