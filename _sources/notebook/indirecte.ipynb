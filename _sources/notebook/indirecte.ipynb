{
 "cells": [
  {
   "cell_type": "markdown",
   "id": "dangerous-queens",
   "metadata": {},
   "source": [
    "Dans cette partie, vous allez apprendre à propager des incertitudes vers des mesurandes indirects.\n",
    "\n",
    "```{margin}\n",
    "Pour rappel un mesurande _direct_ est obtenu par lecture sur un instrument de mesure alors qu'un mesurande _indirect_ est obtenue par calcul à partir des mesurandes directs.\n",
    "```\n",
    "\n",
    "Cette fois, on ne peut évaluer des composantes de l'incertitude d'un mesurande indirect liés au processus de lecture du résultat de mesurage, \n",
    "puisqu'on le calcule.\n",
    "\n",
    "# Incertitude des mesurandes indirectes."
   ]
  },
  {
   "cell_type": "markdown",
   "id": "excessive-principal",
   "metadata": {},
   "source": [
    "## Position du problème.\n",
    "On a mesuré des grandeurs $X_i$ dont on a estimé l'incertitude-type (et la distibution statistique possiblement) et on considère un mesurande Y qu'on recherche et qu'on peut estimer grâce à une relation :\n",
    "\n",
    "$$\n",
    "Y = f(X_i)\n",
    "$$\n",
    "\n",
    "```{admonition} Exemple\n",
    ":class: tip\n",
    "On veut mesurer la valeur $R$ d'une résistance électrique. On a mesuré la tension $U$ à ses bornes et l'intensité $I$ qui la traverse. On va estimer la résistance en utilisant la loi d'Ohm :  $R = U / I$.\n",
    "```\n",
    "\n",
    "On veut estimer l'incertitude-type sur Y et possiblement aussi sa distribution statistique."
   ]
  },
  {
   "cell_type": "markdown",
   "id": "aerial-bronze",
   "metadata": {},
   "source": [
    "## Méthodes\n",
    "Il existe deux méthodes :\n",
    "1. La __simulation de Monte-Carlo__. Le principe est exactement le même que précédemment. La différence est qu'on a plus besoin de centrer les distributions des $X_i$ autour de 0.\n",
    "2. La __propagation des variances__. On utilise des relations entre les variances de grandeurs liés entre elles.\n",
    "\n",
    "__Remarque : Dans les deux cas, on est obligé de supposer que les mesurandes $X_i$ sont tous indépendants. Sinon, les deux méthodes ne sont pas valables.__"
   ]
  },
  {
   "cell_type": "markdown",
   "id": "nonprofit-input",
   "metadata": {},
   "source": [
    "## Simulation de Monte-Carlo."
   ]
  },
  {
   "cell_type": "markdown",
   "id": "informative-catering",
   "metadata": {},
   "source": [
    "### Principe\n",
    "On rappelle brièvement le principe de la simulation de Monte-Carlo. On connaît la distribution statistique de chaque mesurande $X_i$. On va simuler N échantillons de chaque $X_i$ puis on calcule ainsi N échantillons $Y$. On obtient ainsi la distribution des valeurs de $Y$ et on peut calculr son incertitude de mesure.\n",
    "\n",
    "```{note}\n",
    "Dans l'exemple qui suit, on a supposé pour simplifier que les incertitude-type et distribution des mesurandes directs ont déjà été déterminées (ou viennent d'information extérieures). En pratique, elles sont souvent déterminées à partir d'une ou plusieurs sources d'incertitudes. On peut alors combiner la méthode présentée précédemment et celle présentée ici (ce sera fait par la suite).\n",
    "```\n",
    "\n",
    "![Principe de la simulation de Monte-Carlo](./images/simulation_mc.png)"
   ]
  },
  {
   "cell_type": "markdown",
   "id": "retained-controversy",
   "metadata": {},
   "source": [
    "### Exemple\n",
    "```{admonition} Résistance électrique\n",
    ":class: tip\n",
    "On reprend l'exemple précédent de l'estimation de l'incertitude de la résistance R. On a mesuré tension et intensité. On a trouvé :\n",
    " \n",
    "* Un tension $U = 4.53 V$ avec une incertitude $u(U) = 0.03 V$. On a estimé que la loi de probabilité étant gaussienne.\n",
    "* Une intensité $I = 12.14 mA$ avec une incertitude $u(I) = 0.08 mA$. On a estimé que la loi de probabilité étant gaussienne.\n",
    "```\n",
    "\n",
    "La cellule ci-dessous permet d'observer la méthode de Monte-Carlo. La méthode est :\n",
    "1. On créer deux vecteurs de taille N contenant des tirages aléatoires de U et I basés sur les distibutions choisies.\n",
    "2. On obtient un vecteur de taille N contenant des valeurs simulés de R.\n",
    "3. On trace l'histogramme et on calcule la moyenne et l'écart-type de la distribution qui nous donnerons le résultat de mesurage et l'incertitude-type."
   ]
  },
  {
   "cell_type": "code",
   "execution_count": 1,
   "id": "soviet-kennedy",
   "metadata": {},
   "outputs": [
    {
     "data": {
      "image/png": "[encoded data removed]",
      "text/plain": [
       "<Figure size 432x288 with 1 Axes>"
      ]
     },
     "metadata": {
      "filenames": {
       "image/png": "/home/ubuntu/Dropbox/Enseignement prepas/travaux_pratiques/sources/tp_incertitude/_build/jupyter_execute/notebook/indirecte_6_0.png"
      },
      "needs_background": "light"
     },
     "output_type": "display_data"
    },
    {
     "name": "stdout",
     "output_type": "stream",
     "text": [
      "La résistance vaut 373.2 +/- 3.5 Ohm\n"
     ]
    }
   ],
   "source": [
    "import numpy.random as rd  # La bibliothèque numpy.random contient les fonctions générant des échantillons aléatoires.\n",
    "import numpy as np  # La biliothèque numpy permettra de calculer la moyenne et l'écart-type d'un ensemble des valeurs.\n",
    "\n",
    "\"\"\"On importe aussi matplotlib.pyplot pour les tracés\"\"\"\n",
    "import matplotlib.pyplot as plt\n",
    "\n",
    "\"\"\"\n",
    "On commence par créer les N échantillons de U et I.\n",
    "\"\"\"\n",
    "N = 1000000  # Nombre d'échantillons à réaliser.\n",
    "U = 4.53\n",
    "uU = 0.03\n",
    "I = 12.14  # On travaille en mA pour ne pas gérer des nombres trop petits.\n",
    "uI = 0.08  # Même remarque\n",
    "\n",
    "Uech = rd.normal(U, uU, N)  # Création des échantillons pour U\n",
    "Iech = rd.normal(I, uI, N)  # Création des échantillons pour I\n",
    "\n",
    "\n",
    "\"\"\"\n",
    "On va créer les échantillons de R.\n",
    "Ici, l'opération est une simple division et Uech et Iech sont des vecteurs numpy. On peut donc\n",
    "écrire directement Uech / Iech pour diviser les éléments termes à termes (vectorialisation).\n",
    "\"\"\"\n",
    "Rech = Uech / Iech\n",
    "\n",
    "\"\"\"\n",
    "On va tracer l'histogramme des fréquences des valeurs de R. On pourra l'analyser par la suite.\n",
    "\"\"\"\n",
    "f, ax = plt.subplots()  # On crée une fenêtre graphique et des axes.\n",
    "f.suptitle(\"Distribution des valeurs simulées de R\")  # On titre le graphique\n",
    "\n",
    "ax.set_xlabel(\"Valeurs de R\")  # On légende l'axe des abscisses\n",
    "ax.set_ylabel(\"Fréquences\")  # On légende l'axe des ordonnées\n",
    "\n",
    "ax.hist(Rech, bins='rice')  # On créer l'histogramme des valeurs.\n",
    "\n",
    "plt.show()  # On affiche le graphique\n",
    "\n",
    "\"\"\"\n",
    "On calcule la moyenne et l'écart comme valeur mesurée et incertitude-type\n",
    "\"\"\"\n",
    "R = np.mean(Rech)\n",
    "uR = np.std(Rech, ddof=1)  # Calcul de l'écart-type. L'option ddof permet de diviser par N-1 et non par N.\n",
    "\n",
    "print(\"La résistance vaut {:.1f} +/- {:.1f} Ohm\".format(R * 1000, uR * 1000))\n"
   ]
  },
  {
   "cell_type": "markdown",
   "id": "difficult-hostel",
   "metadata": {},
   "source": [
    "```{important}\n",
    "La syntaxe précédente permet d'arrondir à 1 décimale. Il n'est pas nécessaire de la connaître.\n",
    "\n",
    "Par contre, il __est fondamental de prendre du recul sur les valeurs données par Python qui possèderont par défaut beaucoup de chiffres significatifs.__ Ce sera __à vous__ de tronquer les valeurs numériques.\n",
    "\n",
    "La règle est :\n",
    "* on ne garde que 2 chiffres significatifs pour l'incertitude de mesure\n",
    "* on arrondi le résultat de mesurage avec la même précision (même puissance de dix pour le chiffre de rang le plus faible) que l'incertitude de mesure ainsi tronqué.\n",
    "\n",
    "```\n",
    "\n",
    "## Propagation des variances\n",
    "Cette méthode sera présentée plus tard dans l'année."
   ]
  }
 ],
 "metadata": {
  "jupytext": {
   "formats": "ipynb,md:myst",
   "split_at_heading": true,
   "text_representation": {
    "extension": ".md",
    "format_name": "myst",
    "format_version": 0.13,
    "jupytext_version": "1.10.3"
   }
  },
  "kernelspec": {
   "display_name": "Python 3",
   "language": "python",
   "name": "python3"
  },
  "language_info": {
   "codemirror_mode": {
    "name": "ipython",
    "version": 3
   },
   "file_extension": ".py",
   "mimetype": "text/x-python",
   "name": "python",
   "nbconvert_exporter": "python",
   "pygments_lexer": "ipython3",
   "version": "3.9.2"
  },
  "source_map": [
   14,
   27,
   43,
   52,
   56,
   67,
   83,
   131
  ]
 },
 "nbformat": 4,
 "nbformat_minor": 5
}