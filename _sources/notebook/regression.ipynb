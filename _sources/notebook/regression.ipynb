{
 "cells": [
  {
   "cell_type": "markdown",
   "id": "distributed-princess",
   "metadata": {},
   "source": [
    "Comme évoqué précédement, on est souvent dans la situation où l'on ne connait pas tous les paramètres d'une loi physique à vérifier. On doit donc déterminer, à partir des données expérimentales, les paramètres inconnues de la loi de sorte que la loi obtenus soit \"la plus cohérente\" avec les résultats expérimentaux. On parle __d'ajustement ou de régression.__"
   ]
  },
  {
   "cell_type": "markdown",
   "id": "inclusive-confidentiality",
   "metadata": {},
   "source": [
    "# Ajustement d'un modèle affine\n",
    "\n",
    "```{important}\n",
    "On peut réaliser l'ajustement d'un modèle quelconque a priori. Mais dans le cadre du programme, on se limitera à des méthodes d'ajustement de modèle affine (appelé par abus de langage modèle linéaire) : $Y = aX + b$.\n",
    "```"
   ]
  },
  {
   "cell_type": "markdown",
   "id": "crucial-family",
   "metadata": {},
   "source": [
    "## Méthode générale\n",
    "\n",
    "Avant de rentrer dans la méthodes d'ajustment du modèle, il convient d'être méthodique. On suppose qu'on a un ensemble de mesures qui amène à construire deux mesurandes $Y$ et $X$ dont le modèle théorique les reliant est de la forme:\n",
    "\n",
    "$$\n",
    "Y = aX + b\n",
    "$$\n",
    "\n",
    "où $a$ et $b$ ne sont pas connus. On a alors réalisé une série de mesure amenant au calcul des couples $(x_i, y_i)$ (on considèrera qu'il y a k mesures en tout : $i \\in \\{1, 2, \\ldots, k\\}$ avec leurs incertitudes.\n",
    "\n",
    "On doit alors :\n",
    "1. Tracer les croix d'incertitude autour des points $(x_i, y_i)$ et vérifier qu'on peut espérer faire passer une droite par les croix d'incertitude (__vérification qualitative__).\n",
    "2. Estimer au moins les paramètres $a$ et $b$ compatibles avec les points de mesures et si nécessaire l'incertitude sur les paramètres $a$ et $b$.\n",
    "3. Tracer les points de mesures ET le modèle pour vérifier que le modèle passe par les croix d'incertitude (__vérification semi-qualitative__).\n",
    "4. Si ce n'est pas le cas, on calculera les __écarts normalisés__ pour voir s'il y a effectivement incompatibilité.\n",
    "\n",
    "```{margin}\n",
    "Dans les premiers TPs, les écarts normalisés seront systématiquement tracés pour s'entraîner à les calculs (sous Python notamment) et à les analyser.\n",
    "```\n",
    "\n",
    "Seul le point 2. n'a pas encore été développés. On va voir comment on s'y prend."
   ]
  },
  {
   "cell_type": "markdown",
   "id": "asian-diagnosis",
   "metadata": {},
   "source": [
    "## Régression linéaire : Méthode des moindres carrés.\n",
    "\n",
    "Pour déterminer $a$, $b$, on va utiliser une méthode particulière appelée __méthode des moindres carrés__, cette méthode est démontrées comme étant l'une meilleures estimations de $a$ et $b$ dans de nombreux cas. Leurs incertitudes $u(a)$ et $u(b)$ seront déterminées par une méthode de Monte-Carlo (en répétant donc la méthode des moindres carrés avec des échantillons tirés aléatoirement à partir des distributions statistiques)."
   ]
  },
  {
   "cell_type": "markdown",
   "id": "continental-ultimate",
   "metadata": {},
   "source": [
    "### Explication de la méthode.\n",
    "\n",
    "Cf. [explications ici](https://pcsi3physiquestan.github.io/intro_python/notebook/np_polyfit.html)\n",
    "\n",
    "\n",
    "```{attention}\n",
    "La méthode des moindres carrés proposées ci-dessus n'est optimale que si les incertitudes sur les abscisses sont faibles voire nulles. On veillera donc __toujours à placer en abscisses les grandeurs les moins incertaines__, quitte à inverser $X$ et $Y$.\n",
    "```"
   ]
  },
  {
   "cell_type": "markdown",
   "id": "muslim-walter",
   "metadata": {},
   "source": [
    "### Mise en pratique.\n",
    "\n",
    "On va présenter l'utilisation de la méthode des moindres carrés uniquement sous Python au moyen de la fonction `numpy.polyfit`. Cf. [explications ici](https://pcsi3physiquestan.github.io/intro_python/notebook/np_polyfit.html) pour son utilisation.\n",
    "\n",
    "\n",
    "```{margin}\n",
    "Il existe une version \"pondérée\" `numpy.polyfit(x, y, deg, w=incy)` où w est une pondération des points en fonction de l'incertitude sur les $y_i$. `incy` est alors un vecteur numpy contenant les incertitudes sur les $y$.\n",
    "```"
   ]
  },
  {
   "cell_type": "markdown",
   "id": "tracked-northeast",
   "metadata": {},
   "source": [
    "### Exemple d'utilisation\n",
    "On étudie une chute d'un corps dans l'air partant d'une vitesse $v_0$. On veut le modéliser par un point matériel et supposer les frottements négligeables et le champ de pesanteur uniforme. L'objectif est :\n",
    "* de valider les hypothèses qu'on vient de donner\n",
    "* d'estimer le champ de pesanteur sur le lieu de l'expérience.\n",
    "\n",
    "Comme, dans le modèle précédent, on attend une relation $v(t) = v_0 + gt$, on a utilisé un dispositif permettant d'obtenir des couples de mesures $(t_i, v_i)$ avec des incertitudes négligeables sur $t_i$ et des incertitudes $u(v_i)$ sur les $v_i$. On va réaliser une ajustement linéaire pour estimer le champ de pesanteur suivant le modèle proposé et vérifier la cohérence entre le modèle et l'expérience avec le champ de pesanteur estimé.\n",
    "\n",
    "Les données expérimentales obtenues sont données dans le tableau ci-dessous\n",
    "\n",
    "```{margin}\n",
    "On a gardé la cohérence de précision entre vaeur mesurée et incertitude. On a par contre gardé plus de chiffres pour l'incertitude de manière à ce qu'il y en ait au moins 2.\n",
    "```\n",
    "\n",
    "|Echantillon|t(ms)| \tv(cm/ms) |u(v)(cm/ms)|\n",
    "|:-|:-|-:|-:|\n",
    "|0| \t100| \t-0.0052| \t0.0211|\n",
    "|1| \t150| \t0.0934 | \t0.0194|\n",
    "|2| \t200| \t0.1208 | \t0.0035|\n",
    "|3| \t250| \t0.1658 | \t0.0028|\n",
    "|4| \t300| \t0.2290 | \t0.0089|\n",
    "|5| \t350| \t0.2612 | \t0.0091|\n",
    "|6| \t400| \t0.3170 | \t0.0032|\n",
    "|7| \t450| \t0.3449 | \t0.0188|"
   ]
  },
  {
   "cell_type": "code",
   "execution_count": 1,
   "id": "satellite-england",
   "metadata": {
    "tags": [
     "remove-cell"
    ]
   },
   "outputs": [],
   "source": [
    "# import numpy as np\n",
    "# import pandas as pd\n",
    "# import numpy.random as rd\n",
    "# import matplotlib.pyplot as plt\n",
    "# from myst_nb import glue\n",
    "# \n",
    "# dt = 50\n",
    "# v0 = - 1 / 10\n",
    "# h0 = 100\n",
    "# g = 9.81 * 100 / (1000**2)\n",
    "# ti = np.arange(100, 550, dt)\n",
    "# tin = ti[:-1]\n",
    "# uxi = rd.normal(0.3, 0.9, len(ti))\n",
    "# sensi = rd.randint(2, size=len(ti))\n",
    "# plms = [-1, 1]\n",
    "# deltai = [plms[val] for val in sensi]\n",
    "# xi = - h0 + v0 * ti + 1/2 * g *ti**2 + deltai * uxi\n",
    "# vi = []\n",
    "# uvi = []\n",
    "# for i in range(len(tin)):\n",
    "#     vi += [(xi[i+1] - xi[i]) / dt]\n",
    "#     uvi += [1 / dt * np.sqrt((uxi[i+1])**2 + (uxi[i])**2)]\n",
    "# vi = np.array(vi)\n",
    "# uvi = np.array(uvi)\n",
    "# \n",
    "# vtbl = pd.DataFrame({\n",
    "# \t\t\"t(ms)\": tin,\n",
    "# \t\t\"v(cm/ms)\": vi,\n",
    "# \t\t\"u(v)(cm/ms)\": uvi,\n",
    "# \t})\n",
    "# \n",
    "# glue('chutetbl', vtbl, display=False)\n",
    "# \n",
    "# f, ax = plt.subplots(1, 1)\n",
    "# f.suptitle(\"Etude d'une chute libre\")\n",
    "# ax.set_xlabel(\"t(ms)\")\n",
    "# ax.set_ylabel(\"v(cm/ms)\")\n",
    "# \n",
    "# ax.errorbar(tin, vi, yerr=uvi, linestyle='', marker='+')\n",
    "# \n",
    "# glue('chutefig1', f, display=False)\n",
    "# \n",
    "# params = np.polyfit(tin, vi, 1)\n",
    "# \n",
    "# vi_adj = np.polyval(params, tin)\n",
    "# glue('pente', params[0])\n",
    "# glue('oorigine', params[1])\n",
    "# \n",
    "# f1, ax1 = plt.subplots(1, 1)\n",
    "# f1.suptitle(\"Etude d'une chute libre\")\n",
    "# ax1.set_xlabel(\"t(ms)\")\n",
    "# ax1.set_ylabel(\"v(cm/ms)\")\n",
    "# \n",
    "# ax1.errorbar(tin, vi, yerr=uvi, linestyle='', marker='+')\n",
    "# ax1.plot(tin, vi_adj, linestyle='--', marker='', color='orange')\n",
    "# \n",
    "# glue('chutefig2', f1, display=False)\n",
    "# \n",
    "# \n",
    "# residus = vi - vi_adj\n",
    "# enorm = residus / uvi\n",
    "# \n",
    "# f2, ax2 = plt.subplots(1, 2)\n",
    "# f2.suptitle(\"Chute libre : Analyse des résidus\")\n",
    "# ax21 = ax2[0]\n",
    "# ax21.set_xlabel(\"t(ms)\")\n",
    "# ax21.set_ylabel(\"Delta v(cm/ms)\")\n",
    "# ax21.errorbar(tin, residus, yerr=uvi, linestyle='', marker='+')\n",
    "# \n",
    "# ax22 = ax2[1]\n",
    "# ax22.set_xlabel(\"t(ms)\")\n",
    "# ax22.set_ylabel(\"EN\")\n",
    "# ax22.plot(tin, enorm, marker='+', linestyle='', color=\"black\")\n",
    "# \n",
    "# glue('residusfig', f2, display=False)\n",
    "\n",
    "# display(vtbl.style)\n",
    "# f.savefig('./images/chute_grossier.png')\n",
    "# f1.savefig('./images/chute_comparaison.png')\n",
    "# f2.savefig('./images/chute_residus.png')"
   ]
  },
  {
   "cell_type": "markdown",
   "id": "objective-eating",
   "metadata": {},
   "source": [
    "#### Vérification sommaire\n",
    "On commence par [représenter les points](chute_fig1) $(t_i,v_i)$ avec leurs incertitudes de mesure. On observe une tendance des points à s'aligner. On va donc poursuivre l'étude en recherchant des paramètres d'ajustement linéaire.\n",
    "\n",
    "```{figure} ./images/chute_grossier.png\n",
    ":name: chute_fig1\n",
    ":align: center\n",
    "Analyse brute des résultats.\n",
    "```"
   ]
  },
  {
   "cell_type": "markdown",
   "id": "bizarre-adapter",
   "metadata": {},
   "source": [
    "#### Ajustement linéaire\n",
    "On a réalisé un ajustement linéaire. On trouve pour le modèle $V = a t + b$ : \n",
    "\n",
    "|Grandeur | a $(cm/ms^2)$| b (cm/ms)|\n",
    "|:-|-:|-:|\n",
    "|Estimation|0.0009651331|-0.074512830|\n",
    "\n",
    "```{margin}\n",
    "On a fait exprès de ne pas arrondir les valeurs car on ne connait pas pour l'instant l'incertitude de mesure.\n",
    "```\n",
    "\n",
    "On peut tracer [la courbe modèle avec les points de mesure](chute_fig2) et observer si toutes les croix intersectent bien la courbe modèle. Les points semblent proches mais on remarquera :\n",
    "* qu'il n'est pas toujours évident de vérifier s'il y a intersection ou non. \n",
    "* que certains points semblent ne pas passer par la droite modèle.\n",
    "\n",
    "C'est pourquoi on va tracer les résidus (écart modèle-mesure) et les écarts normalisés.\n",
    "\n",
    "\n",
    "```{figure} ./images/chute_comparaison.png\n",
    ":name: chute_fig2\n",
    ":align: center\n",
    "Comparaison au modèle\n",
    "```"
   ]
  },
  {
   "cell_type": "markdown",
   "id": "delayed-nebraska",
   "metadata": {},
   "source": [
    "#### Résidus et écarts normalisés\n",
    "On a maintenant [tracé](chute_fig3) les résidus (gauche). On remarque que les points 3 et 8 semblent poser problème. On s'intéresse donc aux résidus normalisés (droite). Au final, l'ensemble des résidus est inférieur à 2, on va donc pouvoir considérer que l'ensemble des points sont compatibles avec le modèle ajusté ce qui permet :\n",
    "* de valider la cohérence entre le modèle théorique et l'expérience\n",
    "* de considérer que le champ de pesanteur $g$ peut être estimé par la pente $a$ précédente.\n",
    "\n",
    "```{figure} ./images/chute_residus.png\n",
    ":name: chute_fig3\n",
    ":align: center\n",
    "Résidus et écarts normalisés\n",
    "```\n",
    "\n",
    "## Régression linéaire et incertitude.\n",
    "\n",
    "L'estimation du champ de pesanteur précédent a peu d'utilité si on ne peut le comparer à une valeur attendue ($g = (9.81 \\pm 0.10)\\rm{m.s^{-2}}$). Mais pour réaliser une comparaison, il faut estimer l'incertitude sur $g_{experimental}$, donc sur la pente de la régression linéaire.\n",
    "\n",
    "Nous allons donc utiliser une méthode de Monte-Carlo pour cela. On va voir son application sur l'exemple du champ de pesanteur.\n",
    "\n",
    "### Méthode de Monte-Carlo.\n",
    "Le principe est donc :\n",
    "1. De créer N échantillons des $v_i$ suivant une loi (normale ici) d'écart-type $u(v_i)$.\n",
    "2. Pour chaque échantillons $\\{v_i / 1 \\leq i \\leq k\\}$, on estime la pente $a$ puis on en déduit $g$ \n",
    "\n",
    "```{margin}\n",
    "Ici le passage de $a$ à $g$ sera un simple changement d'unité pour avoir des $m.s^{-2}$. Dans d'autres expériences, cela peut nécessité quelques calculs.\n",
    "```\n",
    "\n",
    "3. On a donc N simulations de $g$ : on peut tracer sa distribution et calculer son écart-type qui sera l'estimation de l'incertitude de $u(g)$. On calculera alors l'écart normalisé entre $g_{theorique}$ et $g_{experimental}$.\n",
    "\n",
    "La cellule de code ci-dessous montre un exemple d'implémentation de cette méthode :"
   ]
  },
  {
   "cell_type": "code",
   "execution_count": 2,
   "id": "accompanied-affiliation",
   "metadata": {},
   "outputs": [
    {
     "name": "stdout",
     "output_type": "stream",
     "text": [
      "Champ de pesanteur : g = 9.4786892988928 m/s^2\n",
      "Incertitude : u(g) =0.5313879343860658 m/s^2\n",
      "Ecart normalisé : eta = 0.48347757675765834\n"
     ]
    },
    {
     "data": {
      "image/png": "[encoded data removed]",
      "text/plain": [
       "<Figure size 432x288 with 1 Axes>"
      ]
     },
     "metadata": {
      "filenames": {
       "image/png": "/home/ubuntu/Dropbox/Enseignement prepas/travaux_pratiques/sources/tp_incertitude/_build/jupyter_execute/notebook/regression_11_1.png"
      },
      "needs_background": "light"
     },
     "output_type": "display_data"
    },
    {
     "data": {
      "image/png": "[encoded data removed]",
      "text/plain": [
       "<Figure size 432x288 with 1 Axes>"
      ]
     },
     "metadata": {
      "filenames": {
       "image/png": "/home/ubuntu/Dropbox/Enseignement prepas/travaux_pratiques/sources/tp_incertitude/_build/jupyter_execute/notebook/regression_11_2.png"
      },
      "needs_background": "light"
     },
     "output_type": "display_data"
    }
   ],
   "source": [
    "\"\"\"\n",
    "Comme d'habitude on commence par importer les bibliothèques utiles.\n",
    "\"\"\"\n",
    "import numpy as np\n",
    "import numpy.random as rd\n",
    "import matplotlib.pyplot as plt\n",
    "\n",
    "\"\"\"\n",
    "On créer les vecteurs associées aux mesures\n",
    "\"\"\"\n",
    "ti = [100, 150, 200, 250, 300, 350, 400, 450]\n",
    "vi = [0.005226, 0.093465, 0.120806, 0.165883, 0.229025, 0.261237, 0.317062, 0.344937]\n",
    "uvi = [0.021124, 0.019484, 0.003540, 0.002879, 0.008954, 0.009124, 0.003229, 0.018834]\n",
    "\n",
    "\"\"\"\n",
    "On va maintenant créer les échantillons simulés et estimer la pente puis g par régression linéaire pour chaque échantillons.\n",
    "\n",
    "Comment pour votre exercice sur la célérité du son, on doit construire un tableau de valeurs simulés où\n",
    "chaque colonne correspond à une valeur de vitesse vi(ti). Les arguments de la fonction rd.normal seront donc:\n",
    "- un vecteur vi pour les espérances des distributions des vi\n",
    "- un vecteur uvi pour les écart-types des distribution des vi\n",
    "- un tuple (N,k) correspondant au nombre de simulations N et au nombres de points de mesure k\n",
    "\"\"\"\n",
    "\n",
    "\n",
    "k = len(ti)  # Nombre de points de mesure\n",
    "N = 100000  # Nombre de simulations\n",
    "\n",
    "vi_sim = rd.normal(vi, uvi, (N, k))\n",
    "\n",
    "\"\"\"\n",
    "La fonction polyfit ne permet pas de faire N régressions linéaires d'un coup. On va donc devoir\n",
    "créer une boucle qui parcourt les échantillons simulés et réalise une régression linéaire pour\n",
    "chaque ensemble de k mesures simulées.\n",
    "\"\"\"\n",
    "g_sim = np.zeros(N)   # Vecteur où on stockera les champs de pesanteur estimés\n",
    "for j in range(N):\n",
    "\tparams = np.polyfit(ti, vi_sim[j], 1)  # Régression linéaire sur la ligne j\n",
    "\tpente = params[0]\n",
    "\tg = 10000 * pente  # On passe simplement de cm/ms^2 à des m/s^2\n",
    "\tg_sim[j] = g\n",
    "\n",
    "\n",
    "\"\"\"\n",
    "On va maintenant tracer l'histogramme des valeurs, calculer la moyenne des g et l'écart-type.\n",
    "\"\"\"\n",
    "g_mes = np.mean(g_sim)\n",
    "ug = np.std(g_sim, ddof=1)\n",
    "\n",
    "f, ax = plt.subplots(1, 1)\n",
    "f.suptitle(\"Simulation de Monte-Carlo : Champ de pesanteur\")\n",
    "ax.set_ylabel(\"g(m.s^2)\")\n",
    "\n",
    "ax.hist(g_sim, bins=\"rice\")  # L'option rice adapte automatiquement le nombre de bâtons.\n",
    "\n",
    "print(\"Champ de pesanteur : g = \" +  str(g_mes) + \" m/s^2\")\n",
    "print(\"Incertitude : u(g) =\" +  str(ug) + \" m/s^2\")\n",
    "\n",
    "g_th = 9.81  # Valeur théorique\n",
    "ug_th = 0.1  # Incertitude sur la valeur théorique\n",
    "eta = (g - g_th) / np.sqrt(ug**2 + ug_th**2)\n",
    "\n",
    "print(\"Ecart normalisé : eta = \" + str(eta))\n",
    "\n",
    "\"\"\"\n",
    "Pour mieux visualiser la compatibilité, on va tterminer en traçant les barre d'incertitude pour la valeur expérimentale et la valeur théorique.\n",
    "\"\"\"\n",
    "g_mes = np.mean(g_sim)\n",
    "ug = np.std(g_sim, ddof=1)\n",
    "\n",
    "f1, ax1 = plt.subplots(1, 1)\n",
    "f1.suptitle(\"Comparaison théorie-valeur tabulée\")\n",
    "ax1.set_ylabel(\"g(m.s^2)\")\n",
    "\n",
    "ax1.errorbar([1], [g], yerr=ug, label=\"Valeur expérimentale\", marker=\"+\", color=\"red\" )  # Valeur expérimentale\n",
    "ax1.errorbar([2], [g_th], yerr=ug_th, label=\"Valeur expérimentale\", marker=\"+\", color=\"blue\")  # Valeur théorique\n",
    "\n",
    "plt.show()"
   ]
  },
  {
   "cell_type": "markdown",
   "id": "affiliated-north",
   "metadata": {},
   "source": [
    "Ensuite, il faut :\n",
    "* rendre-compte de la valeur de $g$ et son incertitude avec les bons chiffres significatifs\n",
    "* analyser sa valeur et l'écart normalisé pour voir si la théorie est compatible avec l'expérience.\n",
    "\n",
    "Nous vous laissons réfléchir à ces deux points qui ont déjà été abordés.\n",
    "\n",
    "```{note}\n",
    "En pratique, on pourra(devra) combiner l'analyse de Monte-Carlo avec la validation du modèle théorique. En effet, il faudrait plutôt :\n",
    "* tracer le modèle avec la valeur de g estimé par Monte-Carlo pour le comparer aux points de mesure.\n",
    "* calculer les écarts normalisés avec la valeur `g_sim` et en tenant compte de `ug_sim`.\n",
    "\n",
    "_Le test de compatibilité du modèle affine se ferait donc plutôt après la simulation de Monte-Carlo._\n",
    "```"
   ]
  }
 ],
 "metadata": {
  "jupytext": {
   "formats": "ipynb,md:myst",
   "split_at_heading": true,
   "text_representation": {
    "extension": ".md",
    "format_name": "myst",
    "format_version": 0.13,
    "jupytext_version": "1.11.1"
   }
  },
  "kernelspec": {
   "display_name": "Python 3",
   "language": "python",
   "name": "python3"
  },
  "language_info": {
   "codemirror_mode": {
    "name": "ipython",
    "version": 3
   },
   "file_extension": ".py",
   "mimetype": "text/x-python",
   "name": "python",
   "nbconvert_exporter": "python",
   "pygments_lexer": "ipython3",
   "version": "3.9.2"
  },
  "source_map": [
   14,
   18,
   26,
   50,
   56,
   67,
   78,
   104,
   187,
   198,
   224,
   256,
   335
  ]
 },
 "nbformat": 4,
 "nbformat_minor": 5
}