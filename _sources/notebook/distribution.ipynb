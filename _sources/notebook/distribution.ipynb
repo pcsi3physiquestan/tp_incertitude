{
 "cells": [
  {
   "cell_type": "markdown",
   "id": "f06dc3bc",
   "metadata": {},
   "source": [
    "Dans ce notebook vous aller apprendre les caractéristiques de deux des distributions les plus couramment utilisées:\n",
    "* La distribution gaussienne\n",
    "* La distribution uniforme\n",
    "* Ce notebook permet de revenir sur les méthode d'implémentation du tirage aléatoire suivant ces deux lois."
   ]
  },
  {
   "cell_type": "markdown",
   "id": "60934f14",
   "metadata": {},
   "source": [
    "# Distributions statistiques usuelles."
   ]
  },
  {
   "cell_type": "markdown",
   "id": "db7963b6",
   "metadata": {},
   "source": [
    "(dist_unif)=\n",
    "## Distribution uniforme\n",
    "Une distribution uniforme entre deux valeurs $a$ et $b$ consiste à associer à toutes les valeurs entre $a$ et $b$\n",
    "la même probabilité."
   ]
  },
  {
   "cell_type": "markdown",
   "id": "24bc0aad",
   "metadata": {},
   "source": [
    "### Caractéristique\n",
    "* La loi de probabilité est donc:\n",
    "\n",
    "$$p(x) = \\frac{1}{b-a}$$\n",
    "\n",
    "si x est compris entre a et b et p(x) = 0 sinon.\n",
    "* L'espérance de la distribution est : $\\mu = \\frac{a+b}{2}$\n",
    "* L'écart-type de la distribution est : $\\sigma = \\frac{b-a}{\\sqrt{12}}$\n",
    "\n",
    "```{note}\n",
    "On utilise souvent la demi-largeur $t = \\frac{b-a}{2}$. L'écart-type s'écrit alors:\n",
    "\n",
    "$$\\sigma = \\frac{t}{\\sqrt{3}}$$\n",
    "```"
   ]
  },
  {
   "cell_type": "markdown",
   "id": "45929fa3",
   "metadata": {},
   "source": [
    "### Simulation (en ligne)\n",
    "Nous aurons régulièrement besoin de simuler des lois statistiques avec Python et notamment la loi uniforme. Nous allons voir comment le faire dans la cellule suivante. Lisez le code et chercher à le comprendre pour pouvoir l'utiliser ensuite."
   ]
  },
  {
   "cell_type": "code",
   "execution_count": 1,
   "id": "d35224de",
   "metadata": {
    "tags": [
     "hide-input"
    ]
   },
   "outputs": [
    {
     "name": "stdout",
     "output_type": "stream",
     "text": [
      "---------------\n",
      "Estimation\n",
      "Moyenne =  4.500482182403633\n",
      "Ecart-type =  0.865943804554304\n",
      "---------------\n",
      "Valeur théorique d'une distribution uniforme\n",
      "Moyenne :  4.5\n",
      "Ecart-type :  0.8660254037844387\n",
      "---------------\n"
     ]
    },
    {
     "data": {
      "image/png": "[encoded data removed]",
      "text/plain": [
       "<Figure size 480x360 with 1 Axes>"
      ]
     },
     "metadata": {
      "filenames": {
       "image/png": "D:\\cedri\\Dropbox\\Enseignement prepas\\travaux_pratiques\\sources\\tp_incertitude\\_build\\jupyter_execute\\notebook\\distribution_5_1.png"
      },
      "needs_background": "light"
     },
     "output_type": "display_data"
    }
   ],
   "source": [
    "# La simulation nécessite la bibliothèque numpy.random que nous importons\n",
    "import numpy.random as rd\n",
    "\n",
    "# On importe aussi numpy pour manipuler des vecteurs numpy\n",
    "# et matplotlib.pyplot pour des tracés graphiques\n",
    "import numpy as np\n",
    "import matplotlib.pyplot as plt\n",
    "\n",
    "\"\"\"\n",
    "La fonction uniform(a, b, N) (bibliothèque numpy.random) va créer un vecteur\n",
    "de taille N simulant N tirages aléatoires suivant une distribution\n",
    "uniforme entre a et b\n",
    "\"\"\"\n",
    "N = 100000\n",
    "a = 3\n",
    "b = 6\n",
    "datsim = rd.uniform(a, b, N)\n",
    "\n",
    "\"\"\"\n",
    "Pour vérifier qu'on retombe bien sur les grandeurs, on va estimer\n",
    "la moyenne et l'écart-type de l'échantillon créé précédemment.\n",
    "Retenez ces fonctions qui sont très utiles. Elles appartiennent à\n",
    "la bibliothèque numpy\n",
    "\"\"\"\n",
    "mech = np.mean(datsim)\n",
    "sech = np.std(datsim, ddof=1)  # L'option ddof permet de diviser par N-1 et non par N\n",
    "print(\"---------------\")\n",
    "print(\"Estimation\")\n",
    "print(\"Moyenne = \", mech)\n",
    "print(\"Ecart-type = \", sech)\n",
    "print(\"---------------\")\n",
    "print(\"Valeur théorique d'une distribution uniforme\")\n",
    "print(\"Moyenne : \", (b + a) / 2)\n",
    "print(\"Ecart-type : \", (b - a) / np.sqrt(12))\n",
    "print(\"---------------\")\n",
    "\n",
    "\"\"\"\n",
    "On va maintenant tracer l'histogramme de l'échantillons\n",
    "La fonction subplots créer une fenêtre graphique f avec des axes ax (ici un seul). \n",
    "Les options figsize et dpi ne sont pas à connaître.\n",
    "Elles servent juste à avoir une figure plus grande pour le cours.\n",
    "\"\"\"\n",
    "f, ax = plt.subplots(1, 1, figsize=(8, 6), dpi=60)\n",
    "f.suptitle(\"Simulation de tirages uniformes\")  # Titre du graphique\n",
    "ax.set_xlabel(\"Valeurs possibles\")\n",
    "ax.set_ylabel(\"Fréquences\")\n",
    "\n",
    "# On utilise hist(valeurs, bins) (bibliothèque matplotlib.pyplot)\n",
    "# pour tracer l'histogramme.\n",
    "ax.hist(datsim, bins='rice', label=\"Echantillons uniformes\")\n",
    "ax.legend()  # On ajoute la légende (le label)\n",
    "\n",
    "plt.show()"
   ]
  },
  {
   "cell_type": "markdown",
   "id": "61855063",
   "metadata": {},
   "source": [
    "## La distribution gaussienne"
   ]
  },
  {
   "cell_type": "markdown",
   "id": "c5ca6b47",
   "metadata": {},
   "source": [
    "### Définition\n",
    "\n",
    "La __loi gaussienne (ou loi normale)__ suit une loi de probabilité de la forme:\n",
    "\n",
    "$$p(x) = \\frac{1}{\\sigma \\sqrt{2\\pi}}\\exp^{- \\frac{1}{2} {\\left(\\frac{x - \\mu}{\\sigma}\\right)}^2}$$\n",
    "\n",
    "* $\\mu$ est l'espérance de la distribution (donc pour nous la __valeur mesurée__).\n",
    "* $\\sigma$ est l'écart-type de la distribution (donc pour nous __l'incertitude-type__ associée)"
   ]
  },
  {
   "cell_type": "markdown",
   "id": "0cbc81c9",
   "metadata": {},
   "source": [
    "### Caractéristiques\n",
    "Observer graphiquement les caractéristiques d'une distribution normale :\n",
    "* Elle est centrée sur son espérance $m$ (résultat de mesurage pour nous)\n",
    "* Elle est d'autant plus large que l'écart-type $s$ est grand.\n",
    "* La probabilité qu'un tirage se trouve dans l'intervalle $[m - s; m + s]$ est de 68% (on parle d'intervalle de confiance)\n",
    "* L'intervalle de confiance à 95% est l'intervalle $[m - 2s; m + 2s]$\n",
    "\n",
    "Cela signifie que pour une distribution gaussienne, l'intervalle précédemment \"contient 95% des valeurs possibles\". \n",
    "__C'est pourquoi en physique, on considère généralement cet intervalle l'intervalle dans lequel se trouverait \n",
    "les résultats de mesurage possibles pour un mesurande : $[m - 2s; m + 2s]$__"
   ]
  },
  {
   "cell_type": "code",
   "execution_count": 2,
   "id": "0ab47ecb",
   "metadata": {
    "tags": [
     "remove-input"
    ]
   },
   "outputs": [
    {
     "data": {
      "image/png": "[encoded data removed]",
      "text/plain": [
       "<Figure size 648x432 with 1 Axes>"
      ]
     },
     "metadata": {
      "filenames": {
       "image/png": "D:\\cedri\\Dropbox\\Enseignement prepas\\travaux_pratiques\\sources\\tp_incertitude\\_build\\jupyter_execute\\notebook\\distribution_9_0.png"
      },
      "needs_background": "light"
     },
     "output_type": "display_data"
    }
   ],
   "source": [
    "from reponses.reponses import gaussienne\n",
    "m = 2  # Espérance\n",
    "s = 0.3  # Ecart-type\n",
    "f = gaussienne(m, s)\n",
    "plt.show()"
   ]
  },
  {
   "cell_type": "markdown",
   "id": "35198c96",
   "metadata": {},
   "source": [
    "### Simulation d'un tirage (en ligne)\n",
    "\n",
    "Nous aurons régulièrement besoin de simuler des lois statistiques avec Python et notamment la loi normale. Nous allons voir comment le faire dans la cellule suivante. Lisez le code et chercher à le comprendre pour pouvoir l'utiliser ensuite."
   ]
  },
  {
   "cell_type": "code",
   "execution_count": 3,
   "id": "476069ce",
   "metadata": {
    "tags": [
     "hide-input"
    ]
   },
   "outputs": [
    {
     "name": "stdout",
     "output_type": "stream",
     "text": [
      "---------------\n",
      "Estimation\n",
      "Moyenne =  0.3003868890415418\n",
      "Ecart-type =  2.006495327344747\n",
      "---------------\n",
      "Valeur théorique d'une distribution uniforme\n",
      "Moyenne :  0.3\n",
      "Ecart-type :  2\n",
      "---------------\n"
     ]
    },
    {
     "data": {
      "image/png": "[encoded data removed]",
      "text/plain": [
       "<Figure size 540x360 with 1 Axes>"
      ]
     },
     "metadata": {
      "filenames": {
       "image/png": "D:\\cedri\\Dropbox\\Enseignement prepas\\travaux_pratiques\\sources\\tp_incertitude\\_build\\jupyter_execute\\notebook\\distribution_11_1.png"
      },
      "needs_background": "light"
     },
     "output_type": "display_data"
    }
   ],
   "source": [
    "# La simulation nécessite la bibliothèque numpy.random qui a déjà été importée.\n",
    "\n",
    "\"\"\"\n",
    "La fonction normal(m, s, N) (bibliothèque numpy.random) va créer un vecteur\n",
    "de taille N simulant N tirages aléatoires suivant une distribution\n",
    "normale d'espérance m et d'écart-type s.\n",
    "\"\"\"\n",
    "N = 100000\n",
    "s = 2  # Espérance\n",
    "m = 0.3  # Ecart-type\n",
    "datsim = rd.normal(m, s, N)\n",
    "\n",
    "\"\"\"\n",
    "Pour vérifier qu'on retombe bien sur les grandeurs, on va estimer\n",
    "la moyenne et l'écart-type de l'échantillon créé précédemment.\n",
    "Retenez ces fonctions qui sont très utiles. Elles appartiennent à\n",
    "la bibliothèque numpy\n",
    "\"\"\"\n",
    "mech = np.mean(datsim)\n",
    "sech = np.std(datsim, ddof=1)  # L'option ddof permet de diviser par N-1 et non par N\n",
    "\n",
    "print(\"---------------\")\n",
    "print(\"Estimation\")\n",
    "print(\"Moyenne = \", mech)\n",
    "print(\"Ecart-type = \", sech)\n",
    "print(\"---------------\")\n",
    "print(\"Valeur théorique d'une distribution uniforme\")\n",
    "print(\"Moyenne : \", m)\n",
    "print(\"Ecart-type : \", s)\n",
    "print(\"---------------\")\n",
    "\n",
    "\n",
    "\"\"\"\n",
    "On va maintenant tracer l'histogramme de l'échantillons\n",
    "La fonction subplots créer une fenêtre graphique f avec des axes ax (ici un seul). Les options figsize et dpi ne sont pas à connaître.\n",
    "Elles servent juste à avoir une figure plus grande.\n",
    "\"\"\"\n",
    "f, ax = plt.subplots(1, 1, figsize=(9, 6), dpi=60)\n",
    "f.suptitle(\"Simulation de tirages gaussiens\")  # Titre du graphique\n",
    "ax.set_xlabel(\"Valeurs possibles\")\n",
    "ax.set_ylabel(\"Fréquences\")\n",
    "\n",
    "# On utilise hist(valeurs, bins) (bibliothèque matplotlib.pyplot)\n",
    "# pour tracer l'histogramme.\n",
    "ax.hist(datsim, bins='rice', label=\"Echantillons gaussiens\")\n",
    "ax.legend()  # On ajoute la légende (le label)\n",
    "\n",
    "plt.show()"
   ]
  },
  {
   "cell_type": "markdown",
   "id": "b1b5d223",
   "metadata": {},
   "source": [
    "````{topic} Intérêt de la distribution gaussienne\n",
    "La distribution gaussienne possède deux intérêts :\n",
    "* L'étude des fluctuations statistique des grandeur tend à montrer qu'une grandeur flucture généralement de\n",
    "manière gaussienne autour desa valeur à l'équilibre\n",
    "* La distribution statistique d'un mesurande direct est souvent la combinaison de plusieurs sources\n",
    "d'incertitude possédant chacun une distribution statistique propre.\n",
    "En général, lorsqu'on combine plusieurs distributions (sous certaines conditions non précisées ici)\n",
    "on tend vers une distribution gaussienne de sorte qu'en général, l'hypothèse d'une telle distribution\n",
    "pour le mesurande direct est assez acceptable. _Il s'agit d'une application du théorème central limite._\n",
    "````"
   ]
  }
 ],
 "metadata": {
  "jupytext": {
   "encoding": "# -*- coding: utf-8 -*-",
   "formats": "ipynb,md:myst",
   "split_at_heading": true,
   "text_representation": {
    "extension": ".md",
    "format_name": "myst",
    "format_version": 0.13,
    "jupytext_version": "1.10.3"
   }
  },
  "kernelspec": {
   "display_name": "Python 3",
   "language": "python",
   "name": "python3"
  },
  "language_info": {
   "codemirror_mode": {
    "name": "ipython",
    "version": 3
   },
   "file_extension": ".py",
   "mimetype": "text/x-python",
   "name": "python",
   "nbconvert_exporter": "python",
   "pygments_lexer": "ipython3",
   "version": "3.7.12"
  },
  "source_map": [
   15,
   22,
   26,
   33,
   50,
   56,
   111,
   115,
   126,
   139,
   146,
   152,
   202
  ]
 },
 "nbformat": 4,
 "nbformat_minor": 5
}