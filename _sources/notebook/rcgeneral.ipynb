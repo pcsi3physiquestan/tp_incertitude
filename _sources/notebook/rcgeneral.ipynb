{
 "cells": [
  {
   "cell_type": "markdown",
   "id": "exceptional-namibia",
   "metadata": {},
   "source": [
    "Nous avons déjà commencé à voir comment rendre compte d'une mesure unique avec son incertitude, nous allons maintenant voir comment rendre compte d'un groupe de résultat."
   ]
  },
  {
   "cell_type": "markdown",
   "id": "integrated-guyana",
   "metadata": {},
   "source": [
    "# Rendre compte de résultats expérimentaux"
   ]
  },
  {
   "cell_type": "markdown",
   "id": "disabled-access",
   "metadata": {},
   "source": [
    "## Résultat unique\n",
    "Pour rappel, __un résultat de mesure unique avec incertitude doit s'écrire sous la forme :__\n",
    "\n",
    "$$\n",
    "G = (G_{mes} \\pm u(G)) Unités\n",
    "$$\n",
    "\n",
    "Vous devez respectez les contraintes suivantes :\n",
    "* L'incertitude de mesure doit avoir 2 chiffres significatifs\n",
    "* La valeur mesure doit avoir la même précision que l'incertitude ne mesure.\n",
    "\n",
    "```{margin}\n",
    "Vous pouvez utiliser des puissances de 10 en facteur si c'est nécessaire.\n",
    "```"
   ]
  },
  {
   "cell_type": "markdown",
   "id": "rising-organizer",
   "metadata": {},
   "source": [
    "## Ensemble de résultats\n",
    "Pour rendre compte (afficher proprement) d'un ensemble de résultats, on peut utiliser plusieurs moyens techniques:\n",
    "* tableau markdown dans un notebook (_très verbeux et ne permet pas directement de manipuler les résultats_)\n",
    "* __tableur (LibreOffice Calc, Excel...) : pratique pour l'affichage ET la manipulation des résultats__\n",
    "* (HP) pandas : bibliothèque Python permettant de manipuler des données ET de les afficher de façon propre. C'est très pratique dans un notebook.\n",
    "\n",
    "Dans tous les cas, plusieurs points sont à respecter :\n",
    "* Bien préciser le contenu des colonnes et les __unités__ des grandeurs (en-tête c'est plus simple).\n",
    "* Si la détermination des __incertitudes de mesure__ est importante, réservez une colonne pour ces dernières.\n",
    "* Pour un tableur, utilisez les __formules de calcul du logiciel__ plutôt que tout calculer \"à la main\".\n",
    "\n",
    "__Dans tous les cas, préfèrez un système (tableur ou numpy) qui permet d'automatiser les calculs à faire sur les résultats.__\n",
    "\n",
    "```{margin}\n",
    "Dans les premiers TP, l'utilisation des notebook vous obligera à surtout utiliser numpy pour manipuler un ensemble de résultat.\n",
    "Les méthodes de compte-rendu seront alors souvent guidées. Etudiez ces méthodes pour pouvoir les reproduire.\n",
    "```"
   ]
  },
  {
   "cell_type": "markdown",
   "id": "intended-organ",
   "metadata": {},
   "source": [
    "## Représentation graphique\n",
    "Les représentations graphiques sont très utiles pour :\n",
    "* Faire une synthèse rapide et visuelle des résultats. Possiblement des comparaisons.\n",
    "* Tester visuellement une relation possible entre deux mesurandes.\n",
    "\n",
    "### Moyens techniques\n",
    "Vous disposerez principalement de trois méthodes pour obtenir des représentations graphiques :\n",
    "* Logiciel métier associé à un instrument de mesure (console d'acquisition, oscilloscope, spectromètre...)\n",
    "* Tableur (LibreOffice, Excel)\n",
    "* __matplotlib__\n",
    "\n",
    "La bibliothèque `matplotlib.pyplot` sera utilisée en priorité dans un premier temps, c'est pourquoi les exemples d'applications seront présentés avec ce moyen.\n",
    "\n",
    "```{margin}\n",
    "L'utilisation de `matplotlib` n'impose pas l'utilisation de `numpy` mais c'est fortement recommandé.\n",
    "```\n",
    "\n",
    "### (Rappel) Consignes de tracés\n",
    "```{attention}\n",
    "Par la suite, les fonctions utilisées viennent de la bibliothèque `matplotlib.pyplot` et soit:\n",
    "* elles sont appliquées directement à un objet existant (par exemple des axes `ax`). On peut alors utiliser la syntaxe `ax.fonction(...)`\n",
    "* sinon (cas de `subplots` et de `show`), il ne faut pas oublier l'alias utilisé lors de l'import de matplotlib.pyplot (par exemple `plt.subplots(...)`).\n",
    "```\n",
    "\n",
    "```{hint}\n",
    "Pour créer une figure et des axes dans la figure, vous utiliserez la fonction `f, ax = plt.subplots()` qui créé une fenêtre graphique enregistrée dans la\n",
    "variable `f` et des axes dans cette fenêtre enregistrée dans la variable `ax`.\n",
    "```\n",
    "\n",
    "Une représentation graphique doit toujours :\n",
    "```{margin}\n",
    "Syntaxe : la fenêtre graphique s'appellera `f` et les axes `ax` dans les codes donnés ici\n",
    "```\n",
    "* Avoir un titre (`f.suptitle(\"Titre\")`)\n",
    "* Avoir des axes légendés (`ax.set_xlabel(\"Legende\")` et `ax.set_xlabel(\"Légende\")`)\n",
    "* Une légende s'il y a plusieurs courbes :\n",
    "   * l'option `label=\"Nom de légende\"` dans la fonction `plot, hist, errorbar` permet de donner un nom à la courbe\n",
    "   * la fonction `ax.legend()` permet d'afficher la légende sur le graphique.\n",
    "\n",
    "### Types de tracés sous matplotlib\n",
    "On sera amenés à tracer trois types de graphiques :\n",
    "* des histogrammes (pour les distribution de valeur) : `ax.hist(valeurs, bins=...)`\n",
    "\t* `valeurs` est un vecteurs de valeurs (ou une liste de vecteurs pour tracés plusieurs histogrammes)\n",
    "\t* `bins` est le nombre de bâtons de l'histogramme \n",
    "\t```{margin}\n",
    "\ton peut utiliser `bins = \"rice\"` pour une détermination automatique du nombre de bâtons\n",
    "\t```\n",
    "* des nuages de points sans incertitude ou des courbes (théoriques ou modèles) ! `ax.plot(x, y)`\n",
    "    * `x` et `y` sont des vecteurs contenant les abscisses et ordonnées.\n",
    "    * D'autres options de formattage peuvent être utiles :\n",
    "        * `linewidth`\n",
    "        * `linestyle` (valeurs possibles : `\"-\", \"--\", \"-.\", \".\", \"\"`)\n",
    "        ```{margin}\n",
    "        La valeur est `\"\"` est souvent utile quand on ne veut pas relier les points de mesure.\n",
    "        ```\n",
    "        * `marker` (valeurs possibles : `\".\", \"o\", \"+\", \"x\"`...)\n",
    "* des barres d'incertitude ou des croix d'incertitudes (cf. suite) : `ax.errorbar(x, y, xerr=ux, yerr=uy)`\n",
    "\t* `x` et `y` sont des vecteurs contenant les abscisses et ordonnées.\n",
    "\t* `ux` et `uy` sont des __vecteurs__ contenant les incertitudes sur les abscisses et ordonnées\n",
    "\t```{margin}\n",
    "\tElles sont optionnelles, on peut ne mettre que `yerr`\n",
    "\t```\n",
    "\n",
    "```{note}\n",
    "Des options supplémentaires existent comme `color` ou `label`\n",
    "```\n",
    "\n",
    "### Un exemple de script sous matplotlib\n",
    "Vous trouverez dans la cellule ci-dessous un exemple de structure de code permettant de tracé un nuage de points de mesures avec leurs incertitudes. Nous allons ainsi voir l'utilisation des croix d'incertitudes et des barres d'incertitudes.\n",
    "\n",
    "Essayez de garder une structure similaire pour éviter de perdre du temps à retrouver les commandes."
   ]
  },
  {
   "cell_type": "code",
   "execution_count": 1,
   "id": "figured-relationship",
   "metadata": {},
   "outputs": [
    {
     "data": {
      "image/png": "[encoded data removed]",
      "text/plain": [
       "<Figure size 432x288 with 1 Axes>"
      ]
     },
     "metadata": {
      "filenames": {
       "image/png": "/home/ubuntu/Dropbox/Enseignement prepas/travaux_pratiques/sources/tp_incertitude/_build/jupyter_execute/notebook/rcgeneral_5_0.png"
      },
      "needs_background": "light"
     },
     "output_type": "display_data"
    }
   ],
   "source": [
    "\"\"\"\n",
    "On rappelle qu'il est important d'importer matplotlib.pyplot.\n",
    "On importe aussi numpy car il est très souvent utilisé.\n",
    "\"\"\"\n",
    "import matplotlib.pyplot as plt\n",
    "import numpy as np\n",
    "\n",
    "\"\"\"\n",
    "Il faudra en général entrer vous-même vos données expérimentales dans un vecteur numpy\n",
    "\"\"\"\n",
    "x = np.array([0.1, 3.3, 4.5, 7.6, 11.2, 15.3])  # Préférez ordonner les abscisses par ordre croissant quand vous le pouvez.\n",
    "y = np.array([3.2, 4.5, 3.1, 2.1, -3.1, -6.7])\n",
    "\n",
    "x_err = [0.04, 0.12, 0.34, 1.2, 0.45, 0.98]  # En pratique x_err et y_err sont souvent calculés par Monte-Carlo.\n",
    "y_err = [0.14, 0.32, 0.84, 0.3, 0.15, 0.48]\n",
    "# Remarque évitez de nommer les vecteurs incertitudes xerr et yerr.\n",
    "\n",
    "\n",
    "\"\"\"\n",
    "On crée ensuite la fenêtre graphique avec son titre et ses axes légendés\n",
    "\"\"\"\n",
    "f, ax = plt.subplots()\n",
    "f.suptitle(\"Titre du graphique\")\n",
    "ax.set_xlabel(\"Légende des abscisses\")\n",
    "ax.set_ylabel(\"Légende des ordonnées\")\n",
    "\n",
    "\"\"\"\n",
    "On crée ensuite les tracés. On va ici tracer des points expérimentaux\n",
    "avec leurs incertitudes (abcisses et ordonnées). On va donc utiliser la fonction\n",
    "errorbar.\n",
    "On ne va pas relier les points : linestyle='' (ou linestyle=None)\n",
    "On ne va pas mettre de marqueurs (il y a les croix d'incertitudes) : marker=''\n",
    "On met une légende : label=\"Données expérimentales\"\n",
    "On choisit la couleur : color=\"black\"\n",
    "\"\"\"\n",
    "ax.errorbar(x, y, xerr=x_err, yerr=y_err, linestyle='', marker='', label=\"Données expérimentales\", color=\"black\")\n",
    "\n",
    "\"\"\"\n",
    "On affiche la légende (après le tracé des courbes)\n",
    "\"\"\"\n",
    "ax.legend()\n",
    "\n",
    "\n",
    "\"\"\"\n",
    "On demande d'afficher le graphique (Note : dans un notebook, cette commande n'est pas toujours nécessaire mais prenez l'habitude de l'utiliser)\n",
    "car elle est indispensable si vous utilisez spyder, idle ou pyzo (ou en ligne de commande).\n",
    "\"\"\"\n",
    "plt.show()"
   ]
  },
  {
   "cell_type": "markdown",
   "id": "painted-mountain",
   "metadata": {},
   "source": [
    "### Remarques\n",
    "Dans un traitement plus évolué, on peut même ajouter du texte, des flèches pour montrer certains points, faire des tracés semi-logarithmiques... Ces éléments avancés seront rarement utilisés et lorsque c'est le cas, le code à utiliser sera donné.\n",
    "\n",
    "On peut aussi tracer des barre d'incertitude si l'on n'a que des incertitudes sur les ordonnées (ou si celle sur les abscisses sont considérées comme négligeable). La cellule ci-dessous en donne un exemple avec les données précédentes si les x n'avait pas d'incertitude."
   ]
  },
  {
   "cell_type": "code",
   "execution_count": 2,
   "id": "joint-ridge",
   "metadata": {},
   "outputs": [
    {
     "data": {
      "image/png": "[encoded data removed]",
      "text/plain": [
       "<Figure size 432x288 with 1 Axes>"
      ]
     },
     "metadata": {
      "filenames": {
       "image/png": "/home/ubuntu/Dropbox/Enseignement prepas/travaux_pratiques/sources/tp_incertitude/_build/jupyter_execute/notebook/rcgeneral_7_0.png"
      },
      "needs_background": "light"
     },
     "output_type": "display_data"
    }
   ],
   "source": [
    "\"\"\"\n",
    "On crée ensuite la fenere graphique avec son titre et ses axes légendés.\n",
    "On a changé le nom de la figure et des axes (f1 et xa3) pour rappeler que le nom de ces variables est arbitraire. C'est vous qui le choisissez.\n",
    "\"\"\"\n",
    "f1, xa3 = plt.subplots()\n",
    "f1.suptitle(\"Barres d'incertitude\")\n",
    "xa3.set_xlabel(\"Légende des abscisses\")\n",
    "xa3.set_ylabel(\"Légende des ordonnées\")\n",
    "\n",
    "\"\"\"\n",
    "On crée ensuite les tracés. On va ici tracer des points expérimentaux\n",
    "avec leurs incertitudes (abcisses et ordonnées). On va donc utiliser la fonction\n",
    "errorbar.\n",
    "On ne va pas relier les points : linestyle='' (ou linestyle=None)\n",
    "On ne va pas mettre de marqueurs (il y a les croix d'incertitudes) : marker=''\n",
    "On met une légende : label=\"Données expérimentales\"\n",
    "On choisit la couleur : color=\"black\"\n",
    "\"\"\"\n",
    "xa3.errorbar(x, y, yerr=y_err, linestyle='', marker='+', label=\"Données expérimentales\", color=\"black\")\n",
    "\n",
    "\"\"\"\n",
    "On affiche la légende (après le tracé des courbes)\n",
    "\"\"\"\n",
    "xa3.legend()\n",
    "\n",
    "\n",
    "\"\"\"\n",
    "On demande d'afficher le graphique (Note : dans un notebook, cette commande n'est pas toujours nécessaire mais prenez l'habitude de l'utiliser)\n",
    "car elle est indispensable si vous utilisez spyder, idle ou pyzo (ou en ligne de commande).\n",
    "\"\"\"\n",
    "plt.show()"
   ]
  }
 ],
 "metadata": {
  "jupytext": {
   "formats": "ipynb,md:myst",
   "split_at_heading": true,
   "text_representation": {
    "extension": ".md",
    "format_name": "myst",
    "format_version": 0.13,
    "jupytext_version": "1.11.1"
   }
  },
  "kernelspec": {
   "display_name": "Python 3",
   "language": "python",
   "name": "python3"
  },
  "language_info": {
   "codemirror_mode": {
    "name": "ipython",
    "version": 3
   },
   "file_extension": ".py",
   "mimetype": "text/x-python",
   "name": "python",
   "nbconvert_exporter": "python",
   "pygments_lexer": "ipython3",
   "version": "3.9.2"
  },
  "source_map": [
   14,
   18,
   22,
   39,
   59,
   133,
   182,
   189
  ]
 },
 "nbformat": 4,
 "nbformat_minor": 5
}