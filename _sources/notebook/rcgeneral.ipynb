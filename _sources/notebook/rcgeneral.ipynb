{
 "cells": [
  {
   "cell_type": "markdown",
   "id": "7aa85e62",
   "metadata": {},
   "source": [
    "Nous avons déjà commencé à voir comment rendre compte d'une mesure unique avec son incertitude, nous allons maintenant voir comment rendre compte d'un groupe de résultat."
   ]
  },
  {
   "cell_type": "markdown",
   "id": "2dabb2ef",
   "metadata": {},
   "source": [
    "# Rendre compte et exploiter"
   ]
  },
  {
   "cell_type": "markdown",
   "id": "4267ca71",
   "metadata": {},
   "source": [
    "## Résultat unique\n",
    "```{margin}\n",
    "Vous pouvez utiliser des puissances de 10 en facteur si c'est nécessaire.\n",
    "```\n",
    "````{important}\n",
    "Un résultat de mesure unique avec incertitude doit s'écrire sous la forme :\n",
    "\n",
    "$$\n",
    "G = (G_{mes} \\pm u(G)) Unités\n",
    "$$\n",
    "Vous devez respectez les contraintes suivantes :\n",
    "* L'incertitude de mesure doit avoir 2 chiffres significatifs\n",
    "* La valeur mesurée doit avoir la même précision que l'incertitude ne mesure.\n",
    "````\n",
    "\n",
    "````{topic} Exemples\n",
    "| Mise en forme | Correct/Incorrect |Explication|\n",
    "|:-:|:-:|:-:|\n",
    "|$U = 3.2 \\pm 2.1 V$ | Correct | |\n",
    "|$R = (3.2 \\pm 2.1) \\times 10^6 \\Omega$ | Correct | |\n",
    "|$R = 3.215 \\pm 2.112 \\Omega$ | Incorrect | Trop de chiffres significatifs|\n",
    "|$R = 3.2 \\pm 2 \\Omega$ | Incorrect | Incohérence dans les précisions (mesure/incertitude)|\n",
    "|$R = 1 \\pm 2.1 \\Omega$ | Incorrect | Incohérence dans les précisions (mesure/incertitude)|\n",
    "````"
   ]
  },
  {
   "cell_type": "markdown",
   "id": "0f3a677f",
   "metadata": {},
   "source": [
    "## Ensemble de résultats\n",
    "```{margin}\n",
    "Dans les premiers TP, l'utilisation des notebook vous obligera à surtout utiliser `numpy` et `matplotlib` pour manipuler un ensemble de résultat.\n",
    "```\n",
    "Pour rendre compte d'un ensemble de résultats, on peut utiliser plusieurs moyens techniques:\n",
    "* Un tableau de valeurs. _En général en utilisant un tableur._\n",
    "* Un graphique avec si elles sont calculer des _croix ou barres d'incertitude._\n",
    "\n",
    "Se reporter au [document sur Python](https://pcsi3physiquestan.github.io/intro_python/notebook/plt_presentation.html#methode-generale) pour revoir la structure pour créer un graphique sous Python.\n",
    "\n",
    "__On se rappellera l'utilisation de `errorbar` pour créer des croix d'incertitudes.__"
   ]
  }
 ],
 "metadata": {
  "jupytext": {
   "formats": "ipynb,md:myst",
   "split_at_heading": true,
   "text_representation": {
    "extension": ".md",
    "format_name": "myst",
    "format_version": 0.13,
    "jupytext_version": "1.11.1"
   }
  },
  "kernelspec": {
   "display_name": "Python 3",
   "language": "python",
   "name": "python3"
  },
  "language_info": {
   "codemirror_mode": {
    "name": "ipython",
    "version": 3
   },
   "file_extension": ".py",
   "mimetype": "text/x-python",
   "name": "python",
   "nbconvert_exporter": "python",
   "pygments_lexer": "ipython3",
   "version": "3.9.15"
  },
  "source_map": [
   14,
   18,
   22,
   50
  ]
 },
 "nbformat": 4,
 "nbformat_minor": 5
}