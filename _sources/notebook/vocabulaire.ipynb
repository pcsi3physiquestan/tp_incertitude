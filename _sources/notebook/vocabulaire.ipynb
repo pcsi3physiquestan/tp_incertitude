{
 "cells": [
  {
   "cell_type": "markdown",
   "id": "arbitrary-atlanta",
   "metadata": {},
   "source": [
    "(vocabulaire)=\n",
    "# Vocabulaire et étapes : Généralités\n",
    "\n",
    "## Vocabulaire"
   ]
  },
  {
   "cell_type": "markdown",
   "id": "senior-buffer",
   "metadata": {},
   "source": [
    "Le terme de _mesure_ est trop imprécis, on doit donc définir des termes différents suivant les concepts envisagés :\n",
    "\n",
    "* __Grandeur (mesurable)__ : propriété d’un phénomène, d’un corps ou d'une substance, que l'on peut exprimer quantitativement sous forme d'un nombre et d’une référence (unité de mesure principalement).\n",
    "* __Mesurage, mesurande, procédure de mesure__ : Le _mesurage_ est le processus consistant à obtenir expérimentalement une ou plusieurs valeurs que l’on peut raisonnablement attribuer à une grandeur. La grandeur que l’on veut mesurer est un _mesurande_ et le processus est décrit par une _procédure de mesure_ (ou procédure/mode opératoire).\n",
    "* __Résultat de mesurage__ : Ensemble de valeurs attribuées à un mesurage."
   ]
  },
  {
   "cell_type": "markdown",
   "id": "medium-african",
   "metadata": {},
   "source": [
    "```{important}\n",
    "On distinguera :\n",
    "* Les mesurandes __directs__ obtenus à la lecture d'un instrument de mesure ou donnés par un constructeur d'instruments\n",
    "* Les mesurandes __indirects__ obtenus par le calcul à partir des mesurandes directs.\n",
    "```"
   ]
  },
  {
   "cell_type": "markdown",
   "id": "utility-organization",
   "metadata": {},
   "source": [
    "## Etapes d'une manipulation\n",
    "On distingue trois étapes lors d'une manipulation et du compte-rendu de celle-ci:\n",
    "```{important}\n",
    "1. Le __protocole__ qui décrit le but de la manipulation et la méthode pour y arriver. Il doit présenter les éléments clé suivants\n",
    "   1. Déterminer le __but__ de la manipulation (Que veut-on obtenir ?)\n",
    "   2. Choisir le __principe__ de mesure (Sur quelle idée _théorique_ va-t-on baser notre manipulation ?)\n",
    "   3. Elaborer le __mode opératoire__ (Quelle sont les successions d'étape à réaliser pour mettre en _pratique_ le principe de mesure et atteindre le but recherché).\n",
    "2. La réalisation du protocole et les __observations__ dont on rend compte, souvent au moyen de mesures quantitatives (et leur incertitudes). Leur compte-rendu varie : un résultat avec son incertitude, un tableau de mesure, une description ou un graphique...\n",
    "3. L'__exploitation__ des observations précédentes pour répondre à la problématique posée. Il peut prendre différentes formes (non exhaustif) :\n",
    "  * Comparer une valeur mesurée à une valeur théorique\n",
    "  * Vérifier une relation\n",
    "  * Ajuster une relation (linéaire) à un ensemble de mesures  \n",
    "Très souvent, il faudra calculer des __mesurandes indirectes__ avant de procéder aux études précédentes.\n",
    "```\n",
    "\n",
    "\n",
    "<!-- ## Réalisation d'un protocole et observations.\n",
    "La réalisation d'un protocole demande en général l'entraînement à l'utilisation de matériel spécifique et dépend du domaine étudié. On ne peut détailler ici chaque thème abordé dans l'année.  \n",
    "\n",
    "Les observations qu'on est amené à réaliser sont de deux types : qualitatives (description d'un phénomène, souvent par un dessin) et quantitatives (mesure de grandeurs (directes puis indirectes).  \n",
    "\n",
    "Lorsqu'on réalise le mesurage d'une grandeur, la valeur qu'on observe n'est pas toujours celle qu'on espère avoir (_même en réalisant correctement le mode opératoire_) et elle peut fluctuer si l'on réalise plusieurs fois le mesurage. C'est de ce dernier points que nous allons parler en particulier.\n",
    "\n",
    "+++"
   ]
  }
 ],
 "metadata": {
  "jupytext": {
   "formats": "ipynb,md:myst",
   "split_at_heading": true,
   "text_representation": {
    "extension": ".md",
    "format_name": "myst",
    "format_version": 0.13,
    "jupytext_version": "1.10.3"
   }
  },
  "kernelspec": {
   "display_name": "Python 3",
   "language": "python",
   "name": "python3"
  },
  "language_info": {
   "codemirror_mode": {
    "name": "ipython",
    "version": 3
   },
   "file_extension": ".py",
   "mimetype": "text/x-python",
   "name": "python",
   "nbconvert_exporter": "python",
   "pygments_lexer": "ipython3",
   "version": "3.9.2"
  },
  "source_map": [
   16,
   22,
   30,
   38
  ]
 },
 "nbformat": 4,
 "nbformat_minor": 5
}